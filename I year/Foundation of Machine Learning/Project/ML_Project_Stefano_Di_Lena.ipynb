{
  "nbformat": 4,
  "nbformat_minor": 0,
  "metadata": {
    "colab": {
      "provenance": []
    },
    "kernelspec": {
      "name": "python3",
      "display_name": "Python 3"
    },
    "language_info": {
      "name": "python"
    }
  },
  "cells": [
    {
      "cell_type": "markdown",
      "source": [
        "# Foundation of Machine Learning  (Project)\n",
        "### Student: Stefano di Lena\n",
        "\n"
      ],
      "metadata": {
        "id": "7QnH8Zh6DbBp"
      }
    },
    {
      "cell_type": "markdown",
      "source": [
        "# Recommender System\n",
        "Usando:\n",
        "1. collaborative filtering;\n",
        "2. content-based filtering.\n",
        "\n",
        "Dataset: [MovieLens](https://grouplens.org/datasets/movielens/)\n"
      ],
      "metadata": {
        "id": "bJzfYjU8FC_x"
      }
    },
    {
      "cell_type": "markdown",
      "source": [
        "## 1: Importare i Pacchetti necessari\n"
      ],
      "metadata": {
        "id": "0xiF_shCFwjF"
      }
    },
    {
      "cell_type": "code",
      "source": [
        "import numpy as np\n",
        "import pandas as pd\n",
        "import matplotlib.pyplot as plt\n",
        "import seaborn as sns"
      ],
      "metadata": {
        "id": "MtJJf607F7bI"
      },
      "execution_count": null,
      "outputs": []
    },
    {
      "cell_type": "markdown",
      "source": [
        "## 2: Caricare i Dati\n"
      ],
      "metadata": {
        "id": "02V2L6NLGBuI"
      }
    },
    {
      "cell_type": "code",
      "source": [
        "from google.colab import drive\n",
        "drive.mount('/content/drive')\n",
        "\n",
        "# percorso dei file:\n",
        "ratings_path = '/content/drive/MyDrive/ProgettoML/Dataset/ratings.csv'\n",
        "movies_path = '/content/drive/MyDrive/ProgettoML/Dataset/movies.csv'\n",
        "\n",
        "# caricamento dei dati\n",
        "ratings = pd.read_csv(ratings_path)\n",
        "movies = pd.read_csv(movies_path)\n"
      ],
      "metadata": {
        "colab": {
          "base_uri": "https://localhost:8080/"
        },
        "id": "myxTxyj3GEyS",
        "outputId": "3569b544-9801-4b52-ea55-f1f766b4eab8"
      },
      "execution_count": null,
      "outputs": [
        {
          "output_type": "stream",
          "name": "stdout",
          "text": [
            "Mounted at /content/drive\n"
          ]
        }
      ]
    },
    {
      "cell_type": "markdown",
      "source": [
        "### Check\n",
        "Visualizzo le prime 5 righe dei dataset appena caricati"
      ],
      "metadata": {
        "id": "c1i5bju3KA6Z"
      }
    },
    {
      "cell_type": "code",
      "source": [
        "ratings.head()"
      ],
      "metadata": {
        "colab": {
          "base_uri": "https://localhost:8080/",
          "height": 206
        },
        "id": "P3FzBag5KE30",
        "outputId": "b18406e9-c049-41ed-bfe4-363d97ccb91c"
      },
      "execution_count": null,
      "outputs": [
        {
          "output_type": "execute_result",
          "data": {
            "text/plain": [
              "   userId  movieId  rating  timestamp\n",
              "0       1        1     4.0  964982703\n",
              "1       1        3     4.0  964981247\n",
              "2       1        6     4.0  964982224\n",
              "3       1       47     5.0  964983815\n",
              "4       1       50     5.0  964982931"
            ],
            "text/html": [
              "\n",
              "  <div id=\"df-6fe56738-1f69-495e-8491-adc26c764867\" class=\"colab-df-container\">\n",
              "    <div>\n",
              "<style scoped>\n",
              "    .dataframe tbody tr th:only-of-type {\n",
              "        vertical-align: middle;\n",
              "    }\n",
              "\n",
              "    .dataframe tbody tr th {\n",
              "        vertical-align: top;\n",
              "    }\n",
              "\n",
              "    .dataframe thead th {\n",
              "        text-align: right;\n",
              "    }\n",
              "</style>\n",
              "<table border=\"1\" class=\"dataframe\">\n",
              "  <thead>\n",
              "    <tr style=\"text-align: right;\">\n",
              "      <th></th>\n",
              "      <th>userId</th>\n",
              "      <th>movieId</th>\n",
              "      <th>rating</th>\n",
              "      <th>timestamp</th>\n",
              "    </tr>\n",
              "  </thead>\n",
              "  <tbody>\n",
              "    <tr>\n",
              "      <th>0</th>\n",
              "      <td>1</td>\n",
              "      <td>1</td>\n",
              "      <td>4.0</td>\n",
              "      <td>964982703</td>\n",
              "    </tr>\n",
              "    <tr>\n",
              "      <th>1</th>\n",
              "      <td>1</td>\n",
              "      <td>3</td>\n",
              "      <td>4.0</td>\n",
              "      <td>964981247</td>\n",
              "    </tr>\n",
              "    <tr>\n",
              "      <th>2</th>\n",
              "      <td>1</td>\n",
              "      <td>6</td>\n",
              "      <td>4.0</td>\n",
              "      <td>964982224</td>\n",
              "    </tr>\n",
              "    <tr>\n",
              "      <th>3</th>\n",
              "      <td>1</td>\n",
              "      <td>47</td>\n",
              "      <td>5.0</td>\n",
              "      <td>964983815</td>\n",
              "    </tr>\n",
              "    <tr>\n",
              "      <th>4</th>\n",
              "      <td>1</td>\n",
              "      <td>50</td>\n",
              "      <td>5.0</td>\n",
              "      <td>964982931</td>\n",
              "    </tr>\n",
              "  </tbody>\n",
              "</table>\n",
              "</div>\n",
              "    <div class=\"colab-df-buttons\">\n",
              "\n",
              "  <div class=\"colab-df-container\">\n",
              "    <button class=\"colab-df-convert\" onclick=\"convertToInteractive('df-6fe56738-1f69-495e-8491-adc26c764867')\"\n",
              "            title=\"Convert this dataframe to an interactive table.\"\n",
              "            style=\"display:none;\">\n",
              "\n",
              "  <svg xmlns=\"http://www.w3.org/2000/svg\" height=\"24px\" viewBox=\"0 -960 960 960\">\n",
              "    <path d=\"M120-120v-720h720v720H120Zm60-500h600v-160H180v160Zm220 220h160v-160H400v160Zm0 220h160v-160H400v160ZM180-400h160v-160H180v160Zm440 0h160v-160H620v160ZM180-180h160v-160H180v160Zm440 0h160v-160H620v160Z\"/>\n",
              "  </svg>\n",
              "    </button>\n",
              "\n",
              "  <style>\n",
              "    .colab-df-container {\n",
              "      display:flex;\n",
              "      gap: 12px;\n",
              "    }\n",
              "\n",
              "    .colab-df-convert {\n",
              "      background-color: #E8F0FE;\n",
              "      border: none;\n",
              "      border-radius: 50%;\n",
              "      cursor: pointer;\n",
              "      display: none;\n",
              "      fill: #1967D2;\n",
              "      height: 32px;\n",
              "      padding: 0 0 0 0;\n",
              "      width: 32px;\n",
              "    }\n",
              "\n",
              "    .colab-df-convert:hover {\n",
              "      background-color: #E2EBFA;\n",
              "      box-shadow: 0px 1px 2px rgba(60, 64, 67, 0.3), 0px 1px 3px 1px rgba(60, 64, 67, 0.15);\n",
              "      fill: #174EA6;\n",
              "    }\n",
              "\n",
              "    .colab-df-buttons div {\n",
              "      margin-bottom: 4px;\n",
              "    }\n",
              "\n",
              "    [theme=dark] .colab-df-convert {\n",
              "      background-color: #3B4455;\n",
              "      fill: #D2E3FC;\n",
              "    }\n",
              "\n",
              "    [theme=dark] .colab-df-convert:hover {\n",
              "      background-color: #434B5C;\n",
              "      box-shadow: 0px 1px 3px 1px rgba(0, 0, 0, 0.15);\n",
              "      filter: drop-shadow(0px 1px 2px rgba(0, 0, 0, 0.3));\n",
              "      fill: #FFFFFF;\n",
              "    }\n",
              "  </style>\n",
              "\n",
              "    <script>\n",
              "      const buttonEl =\n",
              "        document.querySelector('#df-6fe56738-1f69-495e-8491-adc26c764867 button.colab-df-convert');\n",
              "      buttonEl.style.display =\n",
              "        google.colab.kernel.accessAllowed ? 'block' : 'none';\n",
              "\n",
              "      async function convertToInteractive(key) {\n",
              "        const element = document.querySelector('#df-6fe56738-1f69-495e-8491-adc26c764867');\n",
              "        const dataTable =\n",
              "          await google.colab.kernel.invokeFunction('convertToInteractive',\n",
              "                                                    [key], {});\n",
              "        if (!dataTable) return;\n",
              "\n",
              "        const docLinkHtml = 'Like what you see? Visit the ' +\n",
              "          '<a target=\"_blank\" href=https://colab.research.google.com/notebooks/data_table.ipynb>data table notebook</a>'\n",
              "          + ' to learn more about interactive tables.';\n",
              "        element.innerHTML = '';\n",
              "        dataTable['output_type'] = 'display_data';\n",
              "        await google.colab.output.renderOutput(dataTable, element);\n",
              "        const docLink = document.createElement('div');\n",
              "        docLink.innerHTML = docLinkHtml;\n",
              "        element.appendChild(docLink);\n",
              "      }\n",
              "    </script>\n",
              "  </div>\n",
              "\n",
              "\n",
              "<div id=\"df-1f15eb61-71fd-416b-9060-47c96b307e9b\">\n",
              "  <button class=\"colab-df-quickchart\" onclick=\"quickchart('df-1f15eb61-71fd-416b-9060-47c96b307e9b')\"\n",
              "            title=\"Suggest charts\"\n",
              "            style=\"display:none;\">\n",
              "\n",
              "<svg xmlns=\"http://www.w3.org/2000/svg\" height=\"24px\"viewBox=\"0 0 24 24\"\n",
              "     width=\"24px\">\n",
              "    <g>\n",
              "        <path d=\"M19 3H5c-1.1 0-2 .9-2 2v14c0 1.1.9 2 2 2h14c1.1 0 2-.9 2-2V5c0-1.1-.9-2-2-2zM9 17H7v-7h2v7zm4 0h-2V7h2v10zm4 0h-2v-4h2v4z\"/>\n",
              "    </g>\n",
              "</svg>\n",
              "  </button>\n",
              "\n",
              "<style>\n",
              "  .colab-df-quickchart {\n",
              "      --bg-color: #E8F0FE;\n",
              "      --fill-color: #1967D2;\n",
              "      --hover-bg-color: #E2EBFA;\n",
              "      --hover-fill-color: #174EA6;\n",
              "      --disabled-fill-color: #AAA;\n",
              "      --disabled-bg-color: #DDD;\n",
              "  }\n",
              "\n",
              "  [theme=dark] .colab-df-quickchart {\n",
              "      --bg-color: #3B4455;\n",
              "      --fill-color: #D2E3FC;\n",
              "      --hover-bg-color: #434B5C;\n",
              "      --hover-fill-color: #FFFFFF;\n",
              "      --disabled-bg-color: #3B4455;\n",
              "      --disabled-fill-color: #666;\n",
              "  }\n",
              "\n",
              "  .colab-df-quickchart {\n",
              "    background-color: var(--bg-color);\n",
              "    border: none;\n",
              "    border-radius: 50%;\n",
              "    cursor: pointer;\n",
              "    display: none;\n",
              "    fill: var(--fill-color);\n",
              "    height: 32px;\n",
              "    padding: 0;\n",
              "    width: 32px;\n",
              "  }\n",
              "\n",
              "  .colab-df-quickchart:hover {\n",
              "    background-color: var(--hover-bg-color);\n",
              "    box-shadow: 0 1px 2px rgba(60, 64, 67, 0.3), 0 1px 3px 1px rgba(60, 64, 67, 0.15);\n",
              "    fill: var(--button-hover-fill-color);\n",
              "  }\n",
              "\n",
              "  .colab-df-quickchart-complete:disabled,\n",
              "  .colab-df-quickchart-complete:disabled:hover {\n",
              "    background-color: var(--disabled-bg-color);\n",
              "    fill: var(--disabled-fill-color);\n",
              "    box-shadow: none;\n",
              "  }\n",
              "\n",
              "  .colab-df-spinner {\n",
              "    border: 2px solid var(--fill-color);\n",
              "    border-color: transparent;\n",
              "    border-bottom-color: var(--fill-color);\n",
              "    animation:\n",
              "      spin 1s steps(1) infinite;\n",
              "  }\n",
              "\n",
              "  @keyframes spin {\n",
              "    0% {\n",
              "      border-color: transparent;\n",
              "      border-bottom-color: var(--fill-color);\n",
              "      border-left-color: var(--fill-color);\n",
              "    }\n",
              "    20% {\n",
              "      border-color: transparent;\n",
              "      border-left-color: var(--fill-color);\n",
              "      border-top-color: var(--fill-color);\n",
              "    }\n",
              "    30% {\n",
              "      border-color: transparent;\n",
              "      border-left-color: var(--fill-color);\n",
              "      border-top-color: var(--fill-color);\n",
              "      border-right-color: var(--fill-color);\n",
              "    }\n",
              "    40% {\n",
              "      border-color: transparent;\n",
              "      border-right-color: var(--fill-color);\n",
              "      border-top-color: var(--fill-color);\n",
              "    }\n",
              "    60% {\n",
              "      border-color: transparent;\n",
              "      border-right-color: var(--fill-color);\n",
              "    }\n",
              "    80% {\n",
              "      border-color: transparent;\n",
              "      border-right-color: var(--fill-color);\n",
              "      border-bottom-color: var(--fill-color);\n",
              "    }\n",
              "    90% {\n",
              "      border-color: transparent;\n",
              "      border-bottom-color: var(--fill-color);\n",
              "    }\n",
              "  }\n",
              "</style>\n",
              "\n",
              "  <script>\n",
              "    async function quickchart(key) {\n",
              "      const quickchartButtonEl =\n",
              "        document.querySelector('#' + key + ' button');\n",
              "      quickchartButtonEl.disabled = true;  // To prevent multiple clicks.\n",
              "      quickchartButtonEl.classList.add('colab-df-spinner');\n",
              "      try {\n",
              "        const charts = await google.colab.kernel.invokeFunction(\n",
              "            'suggestCharts', [key], {});\n",
              "      } catch (error) {\n",
              "        console.error('Error during call to suggestCharts:', error);\n",
              "      }\n",
              "      quickchartButtonEl.classList.remove('colab-df-spinner');\n",
              "      quickchartButtonEl.classList.add('colab-df-quickchart-complete');\n",
              "    }\n",
              "    (() => {\n",
              "      let quickchartButtonEl =\n",
              "        document.querySelector('#df-1f15eb61-71fd-416b-9060-47c96b307e9b button');\n",
              "      quickchartButtonEl.style.display =\n",
              "        google.colab.kernel.accessAllowed ? 'block' : 'none';\n",
              "    })();\n",
              "  </script>\n",
              "</div>\n",
              "\n",
              "    </div>\n",
              "  </div>\n"
            ],
            "application/vnd.google.colaboratory.intrinsic+json": {
              "type": "dataframe",
              "variable_name": "ratings"
            }
          },
          "metadata": {},
          "execution_count": 3
        }
      ]
    },
    {
      "cell_type": "code",
      "source": [
        "movies.head()"
      ],
      "metadata": {
        "colab": {
          "base_uri": "https://localhost:8080/",
          "height": 206
        },
        "id": "xEuF4naKKKyO",
        "outputId": "19d2c76d-36a7-4bb0-f843-85844a08600c"
      },
      "execution_count": null,
      "outputs": [
        {
          "output_type": "execute_result",
          "data": {
            "text/plain": [
              "   movieId                               title  \\\n",
              "0        1                    Toy Story (1995)   \n",
              "1        2                      Jumanji (1995)   \n",
              "2        3             Grumpier Old Men (1995)   \n",
              "3        4            Waiting to Exhale (1995)   \n",
              "4        5  Father of the Bride Part II (1995)   \n",
              "\n",
              "                                        genres  \n",
              "0  Adventure|Animation|Children|Comedy|Fantasy  \n",
              "1                   Adventure|Children|Fantasy  \n",
              "2                               Comedy|Romance  \n",
              "3                         Comedy|Drama|Romance  \n",
              "4                                       Comedy  "
            ],
            "text/html": [
              "\n",
              "  <div id=\"df-1851e5da-3cfd-4d61-abea-26a1e61cbc14\" class=\"colab-df-container\">\n",
              "    <div>\n",
              "<style scoped>\n",
              "    .dataframe tbody tr th:only-of-type {\n",
              "        vertical-align: middle;\n",
              "    }\n",
              "\n",
              "    .dataframe tbody tr th {\n",
              "        vertical-align: top;\n",
              "    }\n",
              "\n",
              "    .dataframe thead th {\n",
              "        text-align: right;\n",
              "    }\n",
              "</style>\n",
              "<table border=\"1\" class=\"dataframe\">\n",
              "  <thead>\n",
              "    <tr style=\"text-align: right;\">\n",
              "      <th></th>\n",
              "      <th>movieId</th>\n",
              "      <th>title</th>\n",
              "      <th>genres</th>\n",
              "    </tr>\n",
              "  </thead>\n",
              "  <tbody>\n",
              "    <tr>\n",
              "      <th>0</th>\n",
              "      <td>1</td>\n",
              "      <td>Toy Story (1995)</td>\n",
              "      <td>Adventure|Animation|Children|Comedy|Fantasy</td>\n",
              "    </tr>\n",
              "    <tr>\n",
              "      <th>1</th>\n",
              "      <td>2</td>\n",
              "      <td>Jumanji (1995)</td>\n",
              "      <td>Adventure|Children|Fantasy</td>\n",
              "    </tr>\n",
              "    <tr>\n",
              "      <th>2</th>\n",
              "      <td>3</td>\n",
              "      <td>Grumpier Old Men (1995)</td>\n",
              "      <td>Comedy|Romance</td>\n",
              "    </tr>\n",
              "    <tr>\n",
              "      <th>3</th>\n",
              "      <td>4</td>\n",
              "      <td>Waiting to Exhale (1995)</td>\n",
              "      <td>Comedy|Drama|Romance</td>\n",
              "    </tr>\n",
              "    <tr>\n",
              "      <th>4</th>\n",
              "      <td>5</td>\n",
              "      <td>Father of the Bride Part II (1995)</td>\n",
              "      <td>Comedy</td>\n",
              "    </tr>\n",
              "  </tbody>\n",
              "</table>\n",
              "</div>\n",
              "    <div class=\"colab-df-buttons\">\n",
              "\n",
              "  <div class=\"colab-df-container\">\n",
              "    <button class=\"colab-df-convert\" onclick=\"convertToInteractive('df-1851e5da-3cfd-4d61-abea-26a1e61cbc14')\"\n",
              "            title=\"Convert this dataframe to an interactive table.\"\n",
              "            style=\"display:none;\">\n",
              "\n",
              "  <svg xmlns=\"http://www.w3.org/2000/svg\" height=\"24px\" viewBox=\"0 -960 960 960\">\n",
              "    <path d=\"M120-120v-720h720v720H120Zm60-500h600v-160H180v160Zm220 220h160v-160H400v160Zm0 220h160v-160H400v160ZM180-400h160v-160H180v160Zm440 0h160v-160H620v160ZM180-180h160v-160H180v160Zm440 0h160v-160H620v160Z\"/>\n",
              "  </svg>\n",
              "    </button>\n",
              "\n",
              "  <style>\n",
              "    .colab-df-container {\n",
              "      display:flex;\n",
              "      gap: 12px;\n",
              "    }\n",
              "\n",
              "    .colab-df-convert {\n",
              "      background-color: #E8F0FE;\n",
              "      border: none;\n",
              "      border-radius: 50%;\n",
              "      cursor: pointer;\n",
              "      display: none;\n",
              "      fill: #1967D2;\n",
              "      height: 32px;\n",
              "      padding: 0 0 0 0;\n",
              "      width: 32px;\n",
              "    }\n",
              "\n",
              "    .colab-df-convert:hover {\n",
              "      background-color: #E2EBFA;\n",
              "      box-shadow: 0px 1px 2px rgba(60, 64, 67, 0.3), 0px 1px 3px 1px rgba(60, 64, 67, 0.15);\n",
              "      fill: #174EA6;\n",
              "    }\n",
              "\n",
              "    .colab-df-buttons div {\n",
              "      margin-bottom: 4px;\n",
              "    }\n",
              "\n",
              "    [theme=dark] .colab-df-convert {\n",
              "      background-color: #3B4455;\n",
              "      fill: #D2E3FC;\n",
              "    }\n",
              "\n",
              "    [theme=dark] .colab-df-convert:hover {\n",
              "      background-color: #434B5C;\n",
              "      box-shadow: 0px 1px 3px 1px rgba(0, 0, 0, 0.15);\n",
              "      filter: drop-shadow(0px 1px 2px rgba(0, 0, 0, 0.3));\n",
              "      fill: #FFFFFF;\n",
              "    }\n",
              "  </style>\n",
              "\n",
              "    <script>\n",
              "      const buttonEl =\n",
              "        document.querySelector('#df-1851e5da-3cfd-4d61-abea-26a1e61cbc14 button.colab-df-convert');\n",
              "      buttonEl.style.display =\n",
              "        google.colab.kernel.accessAllowed ? 'block' : 'none';\n",
              "\n",
              "      async function convertToInteractive(key) {\n",
              "        const element = document.querySelector('#df-1851e5da-3cfd-4d61-abea-26a1e61cbc14');\n",
              "        const dataTable =\n",
              "          await google.colab.kernel.invokeFunction('convertToInteractive',\n",
              "                                                    [key], {});\n",
              "        if (!dataTable) return;\n",
              "\n",
              "        const docLinkHtml = 'Like what you see? Visit the ' +\n",
              "          '<a target=\"_blank\" href=https://colab.research.google.com/notebooks/data_table.ipynb>data table notebook</a>'\n",
              "          + ' to learn more about interactive tables.';\n",
              "        element.innerHTML = '';\n",
              "        dataTable['output_type'] = 'display_data';\n",
              "        await google.colab.output.renderOutput(dataTable, element);\n",
              "        const docLink = document.createElement('div');\n",
              "        docLink.innerHTML = docLinkHtml;\n",
              "        element.appendChild(docLink);\n",
              "      }\n",
              "    </script>\n",
              "  </div>\n",
              "\n",
              "\n",
              "<div id=\"df-d446a846-f7bd-4460-be5a-7d862597aa10\">\n",
              "  <button class=\"colab-df-quickchart\" onclick=\"quickchart('df-d446a846-f7bd-4460-be5a-7d862597aa10')\"\n",
              "            title=\"Suggest charts\"\n",
              "            style=\"display:none;\">\n",
              "\n",
              "<svg xmlns=\"http://www.w3.org/2000/svg\" height=\"24px\"viewBox=\"0 0 24 24\"\n",
              "     width=\"24px\">\n",
              "    <g>\n",
              "        <path d=\"M19 3H5c-1.1 0-2 .9-2 2v14c0 1.1.9 2 2 2h14c1.1 0 2-.9 2-2V5c0-1.1-.9-2-2-2zM9 17H7v-7h2v7zm4 0h-2V7h2v10zm4 0h-2v-4h2v4z\"/>\n",
              "    </g>\n",
              "</svg>\n",
              "  </button>\n",
              "\n",
              "<style>\n",
              "  .colab-df-quickchart {\n",
              "      --bg-color: #E8F0FE;\n",
              "      --fill-color: #1967D2;\n",
              "      --hover-bg-color: #E2EBFA;\n",
              "      --hover-fill-color: #174EA6;\n",
              "      --disabled-fill-color: #AAA;\n",
              "      --disabled-bg-color: #DDD;\n",
              "  }\n",
              "\n",
              "  [theme=dark] .colab-df-quickchart {\n",
              "      --bg-color: #3B4455;\n",
              "      --fill-color: #D2E3FC;\n",
              "      --hover-bg-color: #434B5C;\n",
              "      --hover-fill-color: #FFFFFF;\n",
              "      --disabled-bg-color: #3B4455;\n",
              "      --disabled-fill-color: #666;\n",
              "  }\n",
              "\n",
              "  .colab-df-quickchart {\n",
              "    background-color: var(--bg-color);\n",
              "    border: none;\n",
              "    border-radius: 50%;\n",
              "    cursor: pointer;\n",
              "    display: none;\n",
              "    fill: var(--fill-color);\n",
              "    height: 32px;\n",
              "    padding: 0;\n",
              "    width: 32px;\n",
              "  }\n",
              "\n",
              "  .colab-df-quickchart:hover {\n",
              "    background-color: var(--hover-bg-color);\n",
              "    box-shadow: 0 1px 2px rgba(60, 64, 67, 0.3), 0 1px 3px 1px rgba(60, 64, 67, 0.15);\n",
              "    fill: var(--button-hover-fill-color);\n",
              "  }\n",
              "\n",
              "  .colab-df-quickchart-complete:disabled,\n",
              "  .colab-df-quickchart-complete:disabled:hover {\n",
              "    background-color: var(--disabled-bg-color);\n",
              "    fill: var(--disabled-fill-color);\n",
              "    box-shadow: none;\n",
              "  }\n",
              "\n",
              "  .colab-df-spinner {\n",
              "    border: 2px solid var(--fill-color);\n",
              "    border-color: transparent;\n",
              "    border-bottom-color: var(--fill-color);\n",
              "    animation:\n",
              "      spin 1s steps(1) infinite;\n",
              "  }\n",
              "\n",
              "  @keyframes spin {\n",
              "    0% {\n",
              "      border-color: transparent;\n",
              "      border-bottom-color: var(--fill-color);\n",
              "      border-left-color: var(--fill-color);\n",
              "    }\n",
              "    20% {\n",
              "      border-color: transparent;\n",
              "      border-left-color: var(--fill-color);\n",
              "      border-top-color: var(--fill-color);\n",
              "    }\n",
              "    30% {\n",
              "      border-color: transparent;\n",
              "      border-left-color: var(--fill-color);\n",
              "      border-top-color: var(--fill-color);\n",
              "      border-right-color: var(--fill-color);\n",
              "    }\n",
              "    40% {\n",
              "      border-color: transparent;\n",
              "      border-right-color: var(--fill-color);\n",
              "      border-top-color: var(--fill-color);\n",
              "    }\n",
              "    60% {\n",
              "      border-color: transparent;\n",
              "      border-right-color: var(--fill-color);\n",
              "    }\n",
              "    80% {\n",
              "      border-color: transparent;\n",
              "      border-right-color: var(--fill-color);\n",
              "      border-bottom-color: var(--fill-color);\n",
              "    }\n",
              "    90% {\n",
              "      border-color: transparent;\n",
              "      border-bottom-color: var(--fill-color);\n",
              "    }\n",
              "  }\n",
              "</style>\n",
              "\n",
              "  <script>\n",
              "    async function quickchart(key) {\n",
              "      const quickchartButtonEl =\n",
              "        document.querySelector('#' + key + ' button');\n",
              "      quickchartButtonEl.disabled = true;  // To prevent multiple clicks.\n",
              "      quickchartButtonEl.classList.add('colab-df-spinner');\n",
              "      try {\n",
              "        const charts = await google.colab.kernel.invokeFunction(\n",
              "            'suggestCharts', [key], {});\n",
              "      } catch (error) {\n",
              "        console.error('Error during call to suggestCharts:', error);\n",
              "      }\n",
              "      quickchartButtonEl.classList.remove('colab-df-spinner');\n",
              "      quickchartButtonEl.classList.add('colab-df-quickchart-complete');\n",
              "    }\n",
              "    (() => {\n",
              "      let quickchartButtonEl =\n",
              "        document.querySelector('#df-d446a846-f7bd-4460-be5a-7d862597aa10 button');\n",
              "      quickchartButtonEl.style.display =\n",
              "        google.colab.kernel.accessAllowed ? 'block' : 'none';\n",
              "    })();\n",
              "  </script>\n",
              "</div>\n",
              "\n",
              "    </div>\n",
              "  </div>\n"
            ],
            "application/vnd.google.colaboratory.intrinsic+json": {
              "type": "dataframe",
              "variable_name": "movies",
              "summary": "{\n  \"name\": \"movies\",\n  \"rows\": 9742,\n  \"fields\": [\n    {\n      \"column\": \"movieId\",\n      \"properties\": {\n        \"dtype\": \"number\",\n        \"std\": 52160,\n        \"min\": 1,\n        \"max\": 193609,\n        \"num_unique_values\": 9742,\n        \"samples\": [\n          45635,\n          1373,\n          7325\n        ],\n        \"semantic_type\": \"\",\n        \"description\": \"\"\n      }\n    },\n    {\n      \"column\": \"title\",\n      \"properties\": {\n        \"dtype\": \"string\",\n        \"num_unique_values\": 9737,\n        \"samples\": [\n          \"Teenage Mutant Ninja Turtles (2014)\",\n          \"America's Sweethearts (2001)\",\n          \"Cast Away (2000)\"\n        ],\n        \"semantic_type\": \"\",\n        \"description\": \"\"\n      }\n    },\n    {\n      \"column\": \"genres\",\n      \"properties\": {\n        \"dtype\": \"category\",\n        \"num_unique_values\": 951,\n        \"samples\": [\n          \"Crime|Mystery|Romance|Thriller\",\n          \"Action|Adventure|Comedy|Western\",\n          \"Crime|Drama|Musical\"\n        ],\n        \"semantic_type\": \"\",\n        \"description\": \"\"\n      }\n    }\n  ]\n}"
            }
          },
          "metadata": {},
          "execution_count": 4
        }
      ]
    },
    {
      "cell_type": "markdown",
      "source": [
        "## 3: Esplorare il Dataset"
      ],
      "metadata": {
        "id": "Gf1C10JaLQh1"
      }
    },
    {
      "cell_type": "code",
      "source": [
        "n_ratings = len(ratings)\n",
        "n_movies = ratings['movieId'].nunique()\n",
        "n_users = ratings['userId'].nunique()\n",
        "\n",
        "print(f\"Number of ratings: {n_ratings}\")\n",
        "print(f\"Number of unique movieId's: {n_movies}\")\n",
        "print(f\"Number of unique users: {n_users}\")\n",
        "\n",
        "print(f\"Average ratings per user: {round(n_ratings/n_users, 2)}\")\n",
        "print(f\"Average ratings per movie: {round(n_ratings/n_movies, 2)}\")"
      ],
      "metadata": {
        "colab": {
          "base_uri": "https://localhost:8080/"
        },
        "id": "0x35NG_RLZhW",
        "outputId": "25aa7774-9a22-4f5f-ea1f-9da6373001b5"
      },
      "execution_count": null,
      "outputs": [
        {
          "output_type": "stream",
          "name": "stdout",
          "text": [
            "Number of ratings: 100836\n",
            "Number of unique movieId's: 9724\n",
            "Number of unique users: 610\n",
            "Average ratings per user: 165.3\n",
            "Average ratings per movie: 10.37\n"
          ]
        }
      ]
    },
    {
      "cell_type": "markdown",
      "source": [
        "### Distribuzione"
      ],
      "metadata": {
        "id": "rW8o4h4QMIQN"
      }
    },
    {
      "cell_type": "code",
      "source": [
        "sns.countplot(x='rating', data=ratings)\n",
        "plt.title('Rating Distribution', fontsize=14)\n",
        "plt.show()"
      ],
      "metadata": {
        "colab": {
          "base_uri": "https://localhost:8080/",
          "height": 473
        },
        "id": "GQsl59biMlpK",
        "outputId": "b769d533-1199-42d9-9b83-d97bb7ff7fbb"
      },
      "execution_count": null,
      "outputs": [
        {
          "output_type": "display_data",
          "data": {
            "text/plain": [
              "<Figure size 640x480 with 1 Axes>"
            ],
            "image/png": "[encoded data removed]"
          },
          "metadata": {}
        }
      ]
    },
    {
      "cell_type": "code",
      "source": [
        "print(f\"Mean global rating: {round(ratings['rating'].mean(), 2)}\")"
      ],
      "metadata": {
        "colab": {
          "base_uri": "https://localhost:8080/"
        },
        "id": "3ut36YepPF2-",
        "outputId": "f6a1382b-ec08-4323-c22b-7bad58ce2c25"
      },
      "execution_count": null,
      "outputs": [
        {
          "output_type": "stream",
          "name": "stdout",
          "text": [
            "Mean global rating: 3.5\n"
          ]
        }
      ]
    },
    {
      "cell_type": "code",
      "source": [
        "mean_ratings = ratings.groupby('userId')['rating'].mean()\n",
        "print(f\"Mean rating per user: {round(mean_ratings.mean(), 2)}\")"
      ],
      "metadata": {
        "colab": {
          "base_uri": "https://localhost:8080/"
        },
        "id": "IJW0UramPOAo",
        "outputId": "2ab80186-ee8a-4f2e-e89b-d2e665e82ff2"
      },
      "execution_count": null,
      "outputs": [
        {
          "output_type": "stream",
          "name": "stdout",
          "text": [
            "Mean rating per user: 3.66\n"
          ]
        }
      ]
    },
    {
      "cell_type": "markdown",
      "source": [
        "### Film frequentementente votati"
      ],
      "metadata": {
        "id": "NhUnm07hPdd8"
      }
    },
    {
      "cell_type": "code",
      "source": [
        "# unisco il nome dei film al numero di recensioni\n",
        "movie_ratings = ratings.merge(movies, on='movieId')\n",
        "# stampo le prime dieci righe\n",
        "movie_ratings['title'].value_counts()[0:10]"
      ],
      "metadata": {
        "colab": {
          "base_uri": "https://localhost:8080/",
          "height": 429
        },
        "id": "gOTd0FMwPh13",
        "outputId": "163bf4bd-0568-4704-8216-6579a8f13760"
      },
      "execution_count": null,
      "outputs": [
        {
          "output_type": "execute_result",
          "data": {
            "text/plain": [
              "title\n",
              "Forrest Gump (1994)                          329\n",
              "Shawshank Redemption, The (1994)             317\n",
              "Pulp Fiction (1994)                          307\n",
              "Silence of the Lambs, The (1991)             279\n",
              "Matrix, The (1999)                           278\n",
              "Star Wars: Episode IV - A New Hope (1977)    251\n",
              "Jurassic Park (1993)                         238\n",
              "Braveheart (1995)                            237\n",
              "Terminator 2: Judgment Day (1991)            224\n",
              "Schindler's List (1993)                      220\n",
              "Name: count, dtype: int64"
            ],
            "text/html": [
              "<div>\n",
              "<style scoped>\n",
              "    .dataframe tbody tr th:only-of-type {\n",
              "        vertical-align: middle;\n",
              "    }\n",
              "\n",
              "    .dataframe tbody tr th {\n",
              "        vertical-align: top;\n",
              "    }\n",
              "\n",
              "    .dataframe thead th {\n",
              "        text-align: right;\n",
              "    }\n",
              "</style>\n",
              "<table border=\"1\" class=\"dataframe\">\n",
              "  <thead>\n",
              "    <tr style=\"text-align: right;\">\n",
              "      <th></th>\n",
              "      <th>count</th>\n",
              "    </tr>\n",
              "    <tr>\n",
              "      <th>title</th>\n",
              "      <th></th>\n",
              "    </tr>\n",
              "  </thead>\n",
              "  <tbody>\n",
              "    <tr>\n",
              "      <th>Forrest Gump (1994)</th>\n",
              "      <td>329</td>\n",
              "    </tr>\n",
              "    <tr>\n",
              "      <th>Shawshank Redemption, The (1994)</th>\n",
              "      <td>317</td>\n",
              "    </tr>\n",
              "    <tr>\n",
              "      <th>Pulp Fiction (1994)</th>\n",
              "      <td>307</td>\n",
              "    </tr>\n",
              "    <tr>\n",
              "      <th>Silence of the Lambs, The (1991)</th>\n",
              "      <td>279</td>\n",
              "    </tr>\n",
              "    <tr>\n",
              "      <th>Matrix, The (1999)</th>\n",
              "      <td>278</td>\n",
              "    </tr>\n",
              "    <tr>\n",
              "      <th>Star Wars: Episode IV - A New Hope (1977)</th>\n",
              "      <td>251</td>\n",
              "    </tr>\n",
              "    <tr>\n",
              "      <th>Jurassic Park (1993)</th>\n",
              "      <td>238</td>\n",
              "    </tr>\n",
              "    <tr>\n",
              "      <th>Braveheart (1995)</th>\n",
              "      <td>237</td>\n",
              "    </tr>\n",
              "    <tr>\n",
              "      <th>Terminator 2: Judgment Day (1991)</th>\n",
              "      <td>224</td>\n",
              "    </tr>\n",
              "    <tr>\n",
              "      <th>Schindler's List (1993)</th>\n",
              "      <td>220</td>\n",
              "    </tr>\n",
              "  </tbody>\n",
              "</table>\n",
              "</div><br><label><b>dtype:</b> int64</label>"
            ]
          },
          "metadata": {},
          "execution_count": 9
        }
      ]
    },
    {
      "cell_type": "markdown",
      "source": [
        "*Forrest Gump*, *The Shawshank Redemption* e *Pulp Fiction* hanno più votazioni."
      ],
      "metadata": {
        "id": "Oc5MujcnefLJ"
      }
    },
    {
      "cell_type": "code",
      "source": [
        "movie_ratings['title'].value_counts().tail(10)"
      ],
      "metadata": {
        "colab": {
          "base_uri": "https://localhost:8080/",
          "height": 429
        },
        "id": "APzgccyehAWl",
        "outputId": "35a05b93-1621-4eaf-cdf5-d43b41ede38a"
      },
      "execution_count": null,
      "outputs": [
        {
          "output_type": "execute_result",
          "data": {
            "text/plain": [
              "title\n",
              "Love (2015)                       1\n",
              "The Lost Room (2006)              1\n",
              "Tangerine (2015)                  1\n",
              "Chasuke's Journey (2015)          1\n",
              "How To Change The World (2015)    1\n",
              "Sex, Drugs & Taxation (2013)      1\n",
              "Extraordinary Tales (2015)        1\n",
              "Tomorrow (2015)                   1\n",
              "Embrace of the Serpent (2016)     1\n",
              "31 (2016)                         1\n",
              "Name: count, dtype: int64"
            ],
            "text/html": [
              "<div>\n",
              "<style scoped>\n",
              "    .dataframe tbody tr th:only-of-type {\n",
              "        vertical-align: middle;\n",
              "    }\n",
              "\n",
              "    .dataframe tbody tr th {\n",
              "        vertical-align: top;\n",
              "    }\n",
              "\n",
              "    .dataframe thead th {\n",
              "        text-align: right;\n",
              "    }\n",
              "</style>\n",
              "<table border=\"1\" class=\"dataframe\">\n",
              "  <thead>\n",
              "    <tr style=\"text-align: right;\">\n",
              "      <th></th>\n",
              "      <th>count</th>\n",
              "    </tr>\n",
              "    <tr>\n",
              "      <th>title</th>\n",
              "      <th></th>\n",
              "    </tr>\n",
              "  </thead>\n",
              "  <tbody>\n",
              "    <tr>\n",
              "      <th>Love (2015)</th>\n",
              "      <td>1</td>\n",
              "    </tr>\n",
              "    <tr>\n",
              "      <th>The Lost Room (2006)</th>\n",
              "      <td>1</td>\n",
              "    </tr>\n",
              "    <tr>\n",
              "      <th>Tangerine (2015)</th>\n",
              "      <td>1</td>\n",
              "    </tr>\n",
              "    <tr>\n",
              "      <th>Chasuke's Journey (2015)</th>\n",
              "      <td>1</td>\n",
              "    </tr>\n",
              "    <tr>\n",
              "      <th>How To Change The World (2015)</th>\n",
              "      <td>1</td>\n",
              "    </tr>\n",
              "    <tr>\n",
              "      <th>Sex, Drugs &amp; Taxation (2013)</th>\n",
              "      <td>1</td>\n",
              "    </tr>\n",
              "    <tr>\n",
              "      <th>Extraordinary Tales (2015)</th>\n",
              "      <td>1</td>\n",
              "    </tr>\n",
              "    <tr>\n",
              "      <th>Tomorrow (2015)</th>\n",
              "      <td>1</td>\n",
              "    </tr>\n",
              "    <tr>\n",
              "      <th>Embrace of the Serpent (2016)</th>\n",
              "      <td>1</td>\n",
              "    </tr>\n",
              "    <tr>\n",
              "      <th>31 (2016)</th>\n",
              "      <td>1</td>\n",
              "    </tr>\n",
              "  </tbody>\n",
              "</table>\n",
              "</div><br><label><b>dtype:</b> int64</label>"
            ]
          },
          "metadata": {},
          "execution_count": 10
        }
      ]
    },
    {
      "cell_type": "markdown",
      "source": [
        "Questi sono invece i 10 film meno votati."
      ],
      "metadata": {
        "id": "ifvZu9vuhR3O"
      }
    },
    {
      "cell_type": "markdown",
      "source": [
        "### Quali sono i film con il miglior e peggior voto?"
      ],
      "metadata": {
        "id": "MwwiiX3aS57N"
      }
    },
    {
      "cell_type": "code",
      "source": [
        "mean_ratings = ratings.groupby('movieId')[['rating']].mean()\n",
        "lowest_rated = mean_ratings['rating'].idxmin()\n",
        "movies[movies['movieId']==lowest_rated]"
      ],
      "metadata": {
        "colab": {
          "base_uri": "https://localhost:8080/",
          "height": 81
        },
        "id": "R-ew71Q5TB9B",
        "outputId": "ac9eae38-bded-4bd1-d5cb-5fcc0451da02"
      },
      "execution_count": null,
      "outputs": [
        {
          "output_type": "execute_result",
          "data": {
            "text/plain": [
              "      movieId         title   genres\n",
              "2689     3604  Gypsy (1962)  Musical"
            ],
            "text/html": [
              "\n",
              "  <div id=\"df-e0ba1929-1eba-4ba3-90a2-88cf78014add\" class=\"colab-df-container\">\n",
              "    <div>\n",
              "<style scoped>\n",
              "    .dataframe tbody tr th:only-of-type {\n",
              "        vertical-align: middle;\n",
              "    }\n",
              "\n",
              "    .dataframe tbody tr th {\n",
              "        vertical-align: top;\n",
              "    }\n",
              "\n",
              "    .dataframe thead th {\n",
              "        text-align: right;\n",
              "    }\n",
              "</style>\n",
              "<table border=\"1\" class=\"dataframe\">\n",
              "  <thead>\n",
              "    <tr style=\"text-align: right;\">\n",
              "      <th></th>\n",
              "      <th>movieId</th>\n",
              "      <th>title</th>\n",
              "      <th>genres</th>\n",
              "    </tr>\n",
              "  </thead>\n",
              "  <tbody>\n",
              "    <tr>\n",
              "      <th>2689</th>\n",
              "      <td>3604</td>\n",
              "      <td>Gypsy (1962)</td>\n",
              "      <td>Musical</td>\n",
              "    </tr>\n",
              "  </tbody>\n",
              "</table>\n",
              "</div>\n",
              "    <div class=\"colab-df-buttons\">\n",
              "\n",
              "  <div class=\"colab-df-container\">\n",
              "    <button class=\"colab-df-convert\" onclick=\"convertToInteractive('df-e0ba1929-1eba-4ba3-90a2-88cf78014add')\"\n",
              "            title=\"Convert this dataframe to an interactive table.\"\n",
              "            style=\"display:none;\">\n",
              "\n",
              "  <svg xmlns=\"http://www.w3.org/2000/svg\" height=\"24px\" viewBox=\"0 -960 960 960\">\n",
              "    <path d=\"M120-120v-720h720v720H120Zm60-500h600v-160H180v160Zm220 220h160v-160H400v160Zm0 220h160v-160H400v160ZM180-400h160v-160H180v160Zm440 0h160v-160H620v160ZM180-180h160v-160H180v160Zm440 0h160v-160H620v160Z\"/>\n",
              "  </svg>\n",
              "    </button>\n",
              "\n",
              "  <style>\n",
              "    .colab-df-container {\n",
              "      display:flex;\n",
              "      gap: 12px;\n",
              "    }\n",
              "\n",
              "    .colab-df-convert {\n",
              "      background-color: #E8F0FE;\n",
              "      border: none;\n",
              "      border-radius: 50%;\n",
              "      cursor: pointer;\n",
              "      display: none;\n",
              "      fill: #1967D2;\n",
              "      height: 32px;\n",
              "      padding: 0 0 0 0;\n",
              "      width: 32px;\n",
              "    }\n",
              "\n",
              "    .colab-df-convert:hover {\n",
              "      background-color: #E2EBFA;\n",
              "      box-shadow: 0px 1px 2px rgba(60, 64, 67, 0.3), 0px 1px 3px 1px rgba(60, 64, 67, 0.15);\n",
              "      fill: #174EA6;\n",
              "    }\n",
              "\n",
              "    .colab-df-buttons div {\n",
              "      margin-bottom: 4px;\n",
              "    }\n",
              "\n",
              "    [theme=dark] .colab-df-convert {\n",
              "      background-color: #3B4455;\n",
              "      fill: #D2E3FC;\n",
              "    }\n",
              "\n",
              "    [theme=dark] .colab-df-convert:hover {\n",
              "      background-color: #434B5C;\n",
              "      box-shadow: 0px 1px 3px 1px rgba(0, 0, 0, 0.15);\n",
              "      filter: drop-shadow(0px 1px 2px rgba(0, 0, 0, 0.3));\n",
              "      fill: #FFFFFF;\n",
              "    }\n",
              "  </style>\n",
              "\n",
              "    <script>\n",
              "      const buttonEl =\n",
              "        document.querySelector('#df-e0ba1929-1eba-4ba3-90a2-88cf78014add button.colab-df-convert');\n",
              "      buttonEl.style.display =\n",
              "        google.colab.kernel.accessAllowed ? 'block' : 'none';\n",
              "\n",
              "      async function convertToInteractive(key) {\n",
              "        const element = document.querySelector('#df-e0ba1929-1eba-4ba3-90a2-88cf78014add');\n",
              "        const dataTable =\n",
              "          await google.colab.kernel.invokeFunction('convertToInteractive',\n",
              "                                                    [key], {});\n",
              "        if (!dataTable) return;\n",
              "\n",
              "        const docLinkHtml = 'Like what you see? Visit the ' +\n",
              "          '<a target=\"_blank\" href=https://colab.research.google.com/notebooks/data_table.ipynb>data table notebook</a>'\n",
              "          + ' to learn more about interactive tables.';\n",
              "        element.innerHTML = '';\n",
              "        dataTable['output_type'] = 'display_data';\n",
              "        await google.colab.output.renderOutput(dataTable, element);\n",
              "        const docLink = document.createElement('div');\n",
              "        docLink.innerHTML = docLinkHtml;\n",
              "        element.appendChild(docLink);\n",
              "      }\n",
              "    </script>\n",
              "  </div>\n",
              "\n",
              "\n",
              "    </div>\n",
              "  </div>\n"
            ],
            "application/vnd.google.colaboratory.intrinsic+json": {
              "type": "dataframe",
              "summary": "{\n  \"name\": \"movies[movies['movieId']==lowest_rated]\",\n  \"rows\": 1,\n  \"fields\": [\n    {\n      \"column\": \"movieId\",\n      \"properties\": {\n        \"dtype\": \"number\",\n        \"std\": null,\n        \"min\": 3604,\n        \"max\": 3604,\n        \"num_unique_values\": 1,\n        \"samples\": [\n          3604\n        ],\n        \"semantic_type\": \"\",\n        \"description\": \"\"\n      }\n    },\n    {\n      \"column\": \"title\",\n      \"properties\": {\n        \"dtype\": \"string\",\n        \"num_unique_values\": 1,\n        \"samples\": [\n          \"Gypsy (1962)\"\n        ],\n        \"semantic_type\": \"\",\n        \"description\": \"\"\n      }\n    },\n    {\n      \"column\": \"genres\",\n      \"properties\": {\n        \"dtype\": \"string\",\n        \"num_unique_values\": 1,\n        \"samples\": [\n          \"Musical\"\n        ],\n        \"semantic_type\": \"\",\n        \"description\": \"\"\n      }\n    }\n  ]\n}"
            }
          },
          "metadata": {},
          "execution_count": 11
        }
      ]
    },
    {
      "cell_type": "markdown",
      "source": [
        "*Gypsy* ha il peggior voto"
      ],
      "metadata": {
        "id": "RdB_37B3fiFR"
      }
    },
    {
      "cell_type": "code",
      "source": [
        "ratings[ratings['movieId']==lowest_rated]"
      ],
      "metadata": {
        "colab": {
          "base_uri": "https://localhost:8080/",
          "height": 81
        },
        "id": "8VOr_CbCfm5d",
        "outputId": "c110fb97-e80c-435d-87cc-e5222dffe0e3"
      },
      "execution_count": null,
      "outputs": [
        {
          "output_type": "execute_result",
          "data": {
            "text/plain": [
              "       userId  movieId  rating   timestamp\n",
              "13633      89     3604     0.5  1520408880"
            ],
            "text/html": [
              "\n",
              "  <div id=\"df-b7eff87a-05b8-4496-a3bb-d2397bdfea90\" class=\"colab-df-container\">\n",
              "    <div>\n",
              "<style scoped>\n",
              "    .dataframe tbody tr th:only-of-type {\n",
              "        vertical-align: middle;\n",
              "    }\n",
              "\n",
              "    .dataframe tbody tr th {\n",
              "        vertical-align: top;\n",
              "    }\n",
              "\n",
              "    .dataframe thead th {\n",
              "        text-align: right;\n",
              "    }\n",
              "</style>\n",
              "<table border=\"1\" class=\"dataframe\">\n",
              "  <thead>\n",
              "    <tr style=\"text-align: right;\">\n",
              "      <th></th>\n",
              "      <th>userId</th>\n",
              "      <th>movieId</th>\n",
              "      <th>rating</th>\n",
              "      <th>timestamp</th>\n",
              "    </tr>\n",
              "  </thead>\n",
              "  <tbody>\n",
              "    <tr>\n",
              "      <th>13633</th>\n",
              "      <td>89</td>\n",
              "      <td>3604</td>\n",
              "      <td>0.5</td>\n",
              "      <td>1520408880</td>\n",
              "    </tr>\n",
              "  </tbody>\n",
              "</table>\n",
              "</div>\n",
              "    <div class=\"colab-df-buttons\">\n",
              "\n",
              "  <div class=\"colab-df-container\">\n",
              "    <button class=\"colab-df-convert\" onclick=\"convertToInteractive('df-b7eff87a-05b8-4496-a3bb-d2397bdfea90')\"\n",
              "            title=\"Convert this dataframe to an interactive table.\"\n",
              "            style=\"display:none;\">\n",
              "\n",
              "  <svg xmlns=\"http://www.w3.org/2000/svg\" height=\"24px\" viewBox=\"0 -960 960 960\">\n",
              "    <path d=\"M120-120v-720h720v720H120Zm60-500h600v-160H180v160Zm220 220h160v-160H400v160Zm0 220h160v-160H400v160ZM180-400h160v-160H180v160Zm440 0h160v-160H620v160ZM180-180h160v-160H180v160Zm440 0h160v-160H620v160Z\"/>\n",
              "  </svg>\n",
              "    </button>\n",
              "\n",
              "  <style>\n",
              "    .colab-df-container {\n",
              "      display:flex;\n",
              "      gap: 12px;\n",
              "    }\n",
              "\n",
              "    .colab-df-convert {\n",
              "      background-color: #E8F0FE;\n",
              "      border: none;\n",
              "      border-radius: 50%;\n",
              "      cursor: pointer;\n",
              "      display: none;\n",
              "      fill: #1967D2;\n",
              "      height: 32px;\n",
              "      padding: 0 0 0 0;\n",
              "      width: 32px;\n",
              "    }\n",
              "\n",
              "    .colab-df-convert:hover {\n",
              "      background-color: #E2EBFA;\n",
              "      box-shadow: 0px 1px 2px rgba(60, 64, 67, 0.3), 0px 1px 3px 1px rgba(60, 64, 67, 0.15);\n",
              "      fill: #174EA6;\n",
              "    }\n",
              "\n",
              "    .colab-df-buttons div {\n",
              "      margin-bottom: 4px;\n",
              "    }\n",
              "\n",
              "    [theme=dark] .colab-df-convert {\n",
              "      background-color: #3B4455;\n",
              "      fill: #D2E3FC;\n",
              "    }\n",
              "\n",
              "    [theme=dark] .colab-df-convert:hover {\n",
              "      background-color: #434B5C;\n",
              "      box-shadow: 0px 1px 3px 1px rgba(0, 0, 0, 0.15);\n",
              "      filter: drop-shadow(0px 1px 2px rgba(0, 0, 0, 0.3));\n",
              "      fill: #FFFFFF;\n",
              "    }\n",
              "  </style>\n",
              "\n",
              "    <script>\n",
              "      const buttonEl =\n",
              "        document.querySelector('#df-b7eff87a-05b8-4496-a3bb-d2397bdfea90 button.colab-df-convert');\n",
              "      buttonEl.style.display =\n",
              "        google.colab.kernel.accessAllowed ? 'block' : 'none';\n",
              "\n",
              "      async function convertToInteractive(key) {\n",
              "        const element = document.querySelector('#df-b7eff87a-05b8-4496-a3bb-d2397bdfea90');\n",
              "        const dataTable =\n",
              "          await google.colab.kernel.invokeFunction('convertToInteractive',\n",
              "                                                    [key], {});\n",
              "        if (!dataTable) return;\n",
              "\n",
              "        const docLinkHtml = 'Like what you see? Visit the ' +\n",
              "          '<a target=\"_blank\" href=https://colab.research.google.com/notebooks/data_table.ipynb>data table notebook</a>'\n",
              "          + ' to learn more about interactive tables.';\n",
              "        element.innerHTML = '';\n",
              "        dataTable['output_type'] = 'display_data';\n",
              "        await google.colab.output.renderOutput(dataTable, element);\n",
              "        const docLink = document.createElement('div');\n",
              "        docLink.innerHTML = docLinkHtml;\n",
              "        element.appendChild(docLink);\n",
              "      }\n",
              "    </script>\n",
              "  </div>\n",
              "\n",
              "\n",
              "    </div>\n",
              "  </div>\n"
            ],
            "application/vnd.google.colaboratory.intrinsic+json": {
              "type": "dataframe",
              "summary": "{\n  \"name\": \"ratings[ratings['movieId']==lowest_rated]\",\n  \"rows\": 1,\n  \"fields\": [\n    {\n      \"column\": \"userId\",\n      \"properties\": {\n        \"dtype\": \"number\",\n        \"std\": null,\n        \"min\": 89,\n        \"max\": 89,\n        \"num_unique_values\": 1,\n        \"samples\": [\n          89\n        ],\n        \"semantic_type\": \"\",\n        \"description\": \"\"\n      }\n    },\n    {\n      \"column\": \"movieId\",\n      \"properties\": {\n        \"dtype\": \"number\",\n        \"std\": null,\n        \"min\": 3604,\n        \"max\": 3604,\n        \"num_unique_values\": 1,\n        \"samples\": [\n          3604\n        ],\n        \"semantic_type\": \"\",\n        \"description\": \"\"\n      }\n    },\n    {\n      \"column\": \"rating\",\n      \"properties\": {\n        \"dtype\": \"number\",\n        \"std\": null,\n        \"min\": 0.5,\n        \"max\": 0.5,\n        \"num_unique_values\": 1,\n        \"samples\": [\n          0.5\n        ],\n        \"semantic_type\": \"\",\n        \"description\": \"\"\n      }\n    },\n    {\n      \"column\": \"timestamp\",\n      \"properties\": {\n        \"dtype\": \"number\",\n        \"std\": null,\n        \"min\": 1520408880,\n        \"max\": 1520408880,\n        \"num_unique_values\": 1,\n        \"samples\": [\n          1520408880\n        ],\n        \"semantic_type\": \"\",\n        \"description\": \"\"\n      }\n    }\n  ]\n}"
            }
          },
          "metadata": {},
          "execution_count": 12
        }
      ]
    },
    {
      "cell_type": "markdown",
      "source": [
        "(voto: 0.5) ma ha una sola recensione."
      ],
      "metadata": {
        "id": "j1O0cuSyf4KG"
      }
    },
    {
      "cell_type": "code",
      "source": [
        "highest_rated = mean_ratings['rating'].idxmax()\n",
        "movies[movies['movieId'] == highest_rated]"
      ],
      "metadata": {
        "colab": {
          "base_uri": "https://localhost:8080/",
          "height": 81
        },
        "id": "w_OcOV2hf_Uo",
        "outputId": "4bb67506-2ba4-4e97-bc2e-da364642a9d0"
      },
      "execution_count": null,
      "outputs": [
        {
          "output_type": "execute_result",
          "data": {
            "text/plain": [
              "    movieId            title           genres\n",
              "48       53  Lamerica (1994)  Adventure|Drama"
            ],
            "text/html": [
              "\n",
              "  <div id=\"df-119d615d-cc02-431a-a4ec-4c36cfa06250\" class=\"colab-df-container\">\n",
              "    <div>\n",
              "<style scoped>\n",
              "    .dataframe tbody tr th:only-of-type {\n",
              "        vertical-align: middle;\n",
              "    }\n",
              "\n",
              "    .dataframe tbody tr th {\n",
              "        vertical-align: top;\n",
              "    }\n",
              "\n",
              "    .dataframe thead th {\n",
              "        text-align: right;\n",
              "    }\n",
              "</style>\n",
              "<table border=\"1\" class=\"dataframe\">\n",
              "  <thead>\n",
              "    <tr style=\"text-align: right;\">\n",
              "      <th></th>\n",
              "      <th>movieId</th>\n",
              "      <th>title</th>\n",
              "      <th>genres</th>\n",
              "    </tr>\n",
              "  </thead>\n",
              "  <tbody>\n",
              "    <tr>\n",
              "      <th>48</th>\n",
              "      <td>53</td>\n",
              "      <td>Lamerica (1994)</td>\n",
              "      <td>Adventure|Drama</td>\n",
              "    </tr>\n",
              "  </tbody>\n",
              "</table>\n",
              "</div>\n",
              "    <div class=\"colab-df-buttons\">\n",
              "\n",
              "  <div class=\"colab-df-container\">\n",
              "    <button class=\"colab-df-convert\" onclick=\"convertToInteractive('df-119d615d-cc02-431a-a4ec-4c36cfa06250')\"\n",
              "            title=\"Convert this dataframe to an interactive table.\"\n",
              "            style=\"display:none;\">\n",
              "\n",
              "  <svg xmlns=\"http://www.w3.org/2000/svg\" height=\"24px\" viewBox=\"0 -960 960 960\">\n",
              "    <path d=\"M120-120v-720h720v720H120Zm60-500h600v-160H180v160Zm220 220h160v-160H400v160Zm0 220h160v-160H400v160ZM180-400h160v-160H180v160Zm440 0h160v-160H620v160ZM180-180h160v-160H180v160Zm440 0h160v-160H620v160Z\"/>\n",
              "  </svg>\n",
              "    </button>\n",
              "\n",
              "  <style>\n",
              "    .colab-df-container {\n",
              "      display:flex;\n",
              "      gap: 12px;\n",
              "    }\n",
              "\n",
              "    .colab-df-convert {\n",
              "      background-color: #E8F0FE;\n",
              "      border: none;\n",
              "      border-radius: 50%;\n",
              "      cursor: pointer;\n",
              "      display: none;\n",
              "      fill: #1967D2;\n",
              "      height: 32px;\n",
              "      padding: 0 0 0 0;\n",
              "      width: 32px;\n",
              "    }\n",
              "\n",
              "    .colab-df-convert:hover {\n",
              "      background-color: #E2EBFA;\n",
              "      box-shadow: 0px 1px 2px rgba(60, 64, 67, 0.3), 0px 1px 3px 1px rgba(60, 64, 67, 0.15);\n",
              "      fill: #174EA6;\n",
              "    }\n",
              "\n",
              "    .colab-df-buttons div {\n",
              "      margin-bottom: 4px;\n",
              "    }\n",
              "\n",
              "    [theme=dark] .colab-df-convert {\n",
              "      background-color: #3B4455;\n",
              "      fill: #D2E3FC;\n",
              "    }\n",
              "\n",
              "    [theme=dark] .colab-df-convert:hover {\n",
              "      background-color: #434B5C;\n",
              "      box-shadow: 0px 1px 3px 1px rgba(0, 0, 0, 0.15);\n",
              "      filter: drop-shadow(0px 1px 2px rgba(0, 0, 0, 0.3));\n",
              "      fill: #FFFFFF;\n",
              "    }\n",
              "  </style>\n",
              "\n",
              "    <script>\n",
              "      const buttonEl =\n",
              "        document.querySelector('#df-119d615d-cc02-431a-a4ec-4c36cfa06250 button.colab-df-convert');\n",
              "      buttonEl.style.display =\n",
              "        google.colab.kernel.accessAllowed ? 'block' : 'none';\n",
              "\n",
              "      async function convertToInteractive(key) {\n",
              "        const element = document.querySelector('#df-119d615d-cc02-431a-a4ec-4c36cfa06250');\n",
              "        const dataTable =\n",
              "          await google.colab.kernel.invokeFunction('convertToInteractive',\n",
              "                                                    [key], {});\n",
              "        if (!dataTable) return;\n",
              "\n",
              "        const docLinkHtml = 'Like what you see? Visit the ' +\n",
              "          '<a target=\"_blank\" href=https://colab.research.google.com/notebooks/data_table.ipynb>data table notebook</a>'\n",
              "          + ' to learn more about interactive tables.';\n",
              "        element.innerHTML = '';\n",
              "        dataTable['output_type'] = 'display_data';\n",
              "        await google.colab.output.renderOutput(dataTable, element);\n",
              "        const docLink = document.createElement('div');\n",
              "        docLink.innerHTML = docLinkHtml;\n",
              "        element.appendChild(docLink);\n",
              "      }\n",
              "    </script>\n",
              "  </div>\n",
              "\n",
              "\n",
              "    </div>\n",
              "  </div>\n"
            ],
            "application/vnd.google.colaboratory.intrinsic+json": {
              "type": "dataframe",
              "summary": "{\n  \"name\": \"movies[movies['movieId'] == highest_rated]\",\n  \"rows\": 1,\n  \"fields\": [\n    {\n      \"column\": \"movieId\",\n      \"properties\": {\n        \"dtype\": \"number\",\n        \"std\": null,\n        \"min\": 53,\n        \"max\": 53,\n        \"num_unique_values\": 1,\n        \"samples\": [\n          53\n        ],\n        \"semantic_type\": \"\",\n        \"description\": \"\"\n      }\n    },\n    {\n      \"column\": \"title\",\n      \"properties\": {\n        \"dtype\": \"string\",\n        \"num_unique_values\": 1,\n        \"samples\": [\n          \"Lamerica (1994)\"\n        ],\n        \"semantic_type\": \"\",\n        \"description\": \"\"\n      }\n    },\n    {\n      \"column\": \"genres\",\n      \"properties\": {\n        \"dtype\": \"string\",\n        \"num_unique_values\": 1,\n        \"samples\": [\n          \"Adventure|Drama\"\n        ],\n        \"semantic_type\": \"\",\n        \"description\": \"\"\n      }\n    }\n  ]\n}"
            }
          },
          "metadata": {},
          "execution_count": 13
        }
      ]
    },
    {
      "cell_type": "markdown",
      "source": [
        "*Lamerica* ha la migliore votazione"
      ],
      "metadata": {
        "id": "BZ2jv7u8gFo4"
      }
    },
    {
      "cell_type": "code",
      "source": [
        "ratings[ratings['movieId']==highest_rated]"
      ],
      "metadata": {
        "colab": {
          "base_uri": "https://localhost:8080/",
          "height": 112
        },
        "id": "hGjlODQ7gKs5",
        "outputId": "4b8d69e9-e2cb-4e9f-c545-29313314424b"
      },
      "execution_count": null,
      "outputs": [
        {
          "output_type": "execute_result",
          "data": {
            "text/plain": [
              "       userId  movieId  rating  timestamp\n",
              "13368      85       53     5.0  889468268\n",
              "96115     603       53     5.0  963180003"
            ],
            "text/html": [
              "\n",
              "  <div id=\"df-4116e9d5-1f8f-4a87-a193-9282af1b3a83\" class=\"colab-df-container\">\n",
              "    <div>\n",
              "<style scoped>\n",
              "    .dataframe tbody tr th:only-of-type {\n",
              "        vertical-align: middle;\n",
              "    }\n",
              "\n",
              "    .dataframe tbody tr th {\n",
              "        vertical-align: top;\n",
              "    }\n",
              "\n",
              "    .dataframe thead th {\n",
              "        text-align: right;\n",
              "    }\n",
              "</style>\n",
              "<table border=\"1\" class=\"dataframe\">\n",
              "  <thead>\n",
              "    <tr style=\"text-align: right;\">\n",
              "      <th></th>\n",
              "      <th>userId</th>\n",
              "      <th>movieId</th>\n",
              "      <th>rating</th>\n",
              "      <th>timestamp</th>\n",
              "    </tr>\n",
              "  </thead>\n",
              "  <tbody>\n",
              "    <tr>\n",
              "      <th>13368</th>\n",
              "      <td>85</td>\n",
              "      <td>53</td>\n",
              "      <td>5.0</td>\n",
              "      <td>889468268</td>\n",
              "    </tr>\n",
              "    <tr>\n",
              "      <th>96115</th>\n",
              "      <td>603</td>\n",
              "      <td>53</td>\n",
              "      <td>5.0</td>\n",
              "      <td>963180003</td>\n",
              "    </tr>\n",
              "  </tbody>\n",
              "</table>\n",
              "</div>\n",
              "    <div class=\"colab-df-buttons\">\n",
              "\n",
              "  <div class=\"colab-df-container\">\n",
              "    <button class=\"colab-df-convert\" onclick=\"convertToInteractive('df-4116e9d5-1f8f-4a87-a193-9282af1b3a83')\"\n",
              "            title=\"Convert this dataframe to an interactive table.\"\n",
              "            style=\"display:none;\">\n",
              "\n",
              "  <svg xmlns=\"http://www.w3.org/2000/svg\" height=\"24px\" viewBox=\"0 -960 960 960\">\n",
              "    <path d=\"M120-120v-720h720v720H120Zm60-500h600v-160H180v160Zm220 220h160v-160H400v160Zm0 220h160v-160H400v160ZM180-400h160v-160H180v160Zm440 0h160v-160H620v160ZM180-180h160v-160H180v160Zm440 0h160v-160H620v160Z\"/>\n",
              "  </svg>\n",
              "    </button>\n",
              "\n",
              "  <style>\n",
              "    .colab-df-container {\n",
              "      display:flex;\n",
              "      gap: 12px;\n",
              "    }\n",
              "\n",
              "    .colab-df-convert {\n",
              "      background-color: #E8F0FE;\n",
              "      border: none;\n",
              "      border-radius: 50%;\n",
              "      cursor: pointer;\n",
              "      display: none;\n",
              "      fill: #1967D2;\n",
              "      height: 32px;\n",
              "      padding: 0 0 0 0;\n",
              "      width: 32px;\n",
              "    }\n",
              "\n",
              "    .colab-df-convert:hover {\n",
              "      background-color: #E2EBFA;\n",
              "      box-shadow: 0px 1px 2px rgba(60, 64, 67, 0.3), 0px 1px 3px 1px rgba(60, 64, 67, 0.15);\n",
              "      fill: #174EA6;\n",
              "    }\n",
              "\n",
              "    .colab-df-buttons div {\n",
              "      margin-bottom: 4px;\n",
              "    }\n",
              "\n",
              "    [theme=dark] .colab-df-convert {\n",
              "      background-color: #3B4455;\n",
              "      fill: #D2E3FC;\n",
              "    }\n",
              "\n",
              "    [theme=dark] .colab-df-convert:hover {\n",
              "      background-color: #434B5C;\n",
              "      box-shadow: 0px 1px 3px 1px rgba(0, 0, 0, 0.15);\n",
              "      filter: drop-shadow(0px 1px 2px rgba(0, 0, 0, 0.3));\n",
              "      fill: #FFFFFF;\n",
              "    }\n",
              "  </style>\n",
              "\n",
              "    <script>\n",
              "      const buttonEl =\n",
              "        document.querySelector('#df-4116e9d5-1f8f-4a87-a193-9282af1b3a83 button.colab-df-convert');\n",
              "      buttonEl.style.display =\n",
              "        google.colab.kernel.accessAllowed ? 'block' : 'none';\n",
              "\n",
              "      async function convertToInteractive(key) {\n",
              "        const element = document.querySelector('#df-4116e9d5-1f8f-4a87-a193-9282af1b3a83');\n",
              "        const dataTable =\n",
              "          await google.colab.kernel.invokeFunction('convertToInteractive',\n",
              "                                                    [key], {});\n",
              "        if (!dataTable) return;\n",
              "\n",
              "        const docLinkHtml = 'Like what you see? Visit the ' +\n",
              "          '<a target=\"_blank\" href=https://colab.research.google.com/notebooks/data_table.ipynb>data table notebook</a>'\n",
              "          + ' to learn more about interactive tables.';\n",
              "        element.innerHTML = '';\n",
              "        dataTable['output_type'] = 'display_data';\n",
              "        await google.colab.output.renderOutput(dataTable, element);\n",
              "        const docLink = document.createElement('div');\n",
              "        docLink.innerHTML = docLinkHtml;\n",
              "        element.appendChild(docLink);\n",
              "      }\n",
              "    </script>\n",
              "  </div>\n",
              "\n",
              "\n",
              "<div id=\"df-90064d1b-cef0-46c7-a3f1-03ec6a7e1c85\">\n",
              "  <button class=\"colab-df-quickchart\" onclick=\"quickchart('df-90064d1b-cef0-46c7-a3f1-03ec6a7e1c85')\"\n",
              "            title=\"Suggest charts\"\n",
              "            style=\"display:none;\">\n",
              "\n",
              "<svg xmlns=\"http://www.w3.org/2000/svg\" height=\"24px\"viewBox=\"0 0 24 24\"\n",
              "     width=\"24px\">\n",
              "    <g>\n",
              "        <path d=\"M19 3H5c-1.1 0-2 .9-2 2v14c0 1.1.9 2 2 2h14c1.1 0 2-.9 2-2V5c0-1.1-.9-2-2-2zM9 17H7v-7h2v7zm4 0h-2V7h2v10zm4 0h-2v-4h2v4z\"/>\n",
              "    </g>\n",
              "</svg>\n",
              "  </button>\n",
              "\n",
              "<style>\n",
              "  .colab-df-quickchart {\n",
              "      --bg-color: #E8F0FE;\n",
              "      --fill-color: #1967D2;\n",
              "      --hover-bg-color: #E2EBFA;\n",
              "      --hover-fill-color: #174EA6;\n",
              "      --disabled-fill-color: #AAA;\n",
              "      --disabled-bg-color: #DDD;\n",
              "  }\n",
              "\n",
              "  [theme=dark] .colab-df-quickchart {\n",
              "      --bg-color: #3B4455;\n",
              "      --fill-color: #D2E3FC;\n",
              "      --hover-bg-color: #434B5C;\n",
              "      --hover-fill-color: #FFFFFF;\n",
              "      --disabled-bg-color: #3B4455;\n",
              "      --disabled-fill-color: #666;\n",
              "  }\n",
              "\n",
              "  .colab-df-quickchart {\n",
              "    background-color: var(--bg-color);\n",
              "    border: none;\n",
              "    border-radius: 50%;\n",
              "    cursor: pointer;\n",
              "    display: none;\n",
              "    fill: var(--fill-color);\n",
              "    height: 32px;\n",
              "    padding: 0;\n",
              "    width: 32px;\n",
              "  }\n",
              "\n",
              "  .colab-df-quickchart:hover {\n",
              "    background-color: var(--hover-bg-color);\n",
              "    box-shadow: 0 1px 2px rgba(60, 64, 67, 0.3), 0 1px 3px 1px rgba(60, 64, 67, 0.15);\n",
              "    fill: var(--button-hover-fill-color);\n",
              "  }\n",
              "\n",
              "  .colab-df-quickchart-complete:disabled,\n",
              "  .colab-df-quickchart-complete:disabled:hover {\n",
              "    background-color: var(--disabled-bg-color);\n",
              "    fill: var(--disabled-fill-color);\n",
              "    box-shadow: none;\n",
              "  }\n",
              "\n",
              "  .colab-df-spinner {\n",
              "    border: 2px solid var(--fill-color);\n",
              "    border-color: transparent;\n",
              "    border-bottom-color: var(--fill-color);\n",
              "    animation:\n",
              "      spin 1s steps(1) infinite;\n",
              "  }\n",
              "\n",
              "  @keyframes spin {\n",
              "    0% {\n",
              "      border-color: transparent;\n",
              "      border-bottom-color: var(--fill-color);\n",
              "      border-left-color: var(--fill-color);\n",
              "    }\n",
              "    20% {\n",
              "      border-color: transparent;\n",
              "      border-left-color: var(--fill-color);\n",
              "      border-top-color: var(--fill-color);\n",
              "    }\n",
              "    30% {\n",
              "      border-color: transparent;\n",
              "      border-left-color: var(--fill-color);\n",
              "      border-top-color: var(--fill-color);\n",
              "      border-right-color: var(--fill-color);\n",
              "    }\n",
              "    40% {\n",
              "      border-color: transparent;\n",
              "      border-right-color: var(--fill-color);\n",
              "      border-top-color: var(--fill-color);\n",
              "    }\n",
              "    60% {\n",
              "      border-color: transparent;\n",
              "      border-right-color: var(--fill-color);\n",
              "    }\n",
              "    80% {\n",
              "      border-color: transparent;\n",
              "      border-right-color: var(--fill-color);\n",
              "      border-bottom-color: var(--fill-color);\n",
              "    }\n",
              "    90% {\n",
              "      border-color: transparent;\n",
              "      border-bottom-color: var(--fill-color);\n",
              "    }\n",
              "  }\n",
              "</style>\n",
              "\n",
              "  <script>\n",
              "    async function quickchart(key) {\n",
              "      const quickchartButtonEl =\n",
              "        document.querySelector('#' + key + ' button');\n",
              "      quickchartButtonEl.disabled = true;  // To prevent multiple clicks.\n",
              "      quickchartButtonEl.classList.add('colab-df-spinner');\n",
              "      try {\n",
              "        const charts = await google.colab.kernel.invokeFunction(\n",
              "            'suggestCharts', [key], {});\n",
              "      } catch (error) {\n",
              "        console.error('Error during call to suggestCharts:', error);\n",
              "      }\n",
              "      quickchartButtonEl.classList.remove('colab-df-spinner');\n",
              "      quickchartButtonEl.classList.add('colab-df-quickchart-complete');\n",
              "    }\n",
              "    (() => {\n",
              "      let quickchartButtonEl =\n",
              "        document.querySelector('#df-90064d1b-cef0-46c7-a3f1-03ec6a7e1c85 button');\n",
              "      quickchartButtonEl.style.display =\n",
              "        google.colab.kernel.accessAllowed ? 'block' : 'none';\n",
              "    })();\n",
              "  </script>\n",
              "</div>\n",
              "\n",
              "    </div>\n",
              "  </div>\n"
            ],
            "application/vnd.google.colaboratory.intrinsic+json": {
              "type": "dataframe",
              "summary": "{\n  \"name\": \"ratings[ratings['movieId']==highest_rated]\",\n  \"rows\": 2,\n  \"fields\": [\n    {\n      \"column\": \"userId\",\n      \"properties\": {\n        \"dtype\": \"number\",\n        \"std\": 366,\n        \"min\": 85,\n        \"max\": 603,\n        \"num_unique_values\": 2,\n        \"samples\": [\n          603,\n          85\n        ],\n        \"semantic_type\": \"\",\n        \"description\": \"\"\n      }\n    },\n    {\n      \"column\": \"movieId\",\n      \"properties\": {\n        \"dtype\": \"number\",\n        \"std\": 0,\n        \"min\": 53,\n        \"max\": 53,\n        \"num_unique_values\": 1,\n        \"samples\": [\n          53\n        ],\n        \"semantic_type\": \"\",\n        \"description\": \"\"\n      }\n    },\n    {\n      \"column\": \"rating\",\n      \"properties\": {\n        \"dtype\": \"number\",\n        \"std\": 0.0,\n        \"min\": 5.0,\n        \"max\": 5.0,\n        \"num_unique_values\": 1,\n        \"samples\": [\n          5.0\n        ],\n        \"semantic_type\": \"\",\n        \"description\": \"\"\n      }\n    },\n    {\n      \"column\": \"timestamp\",\n      \"properties\": {\n        \"dtype\": \"number\",\n        \"std\": 52122067,\n        \"min\": 889468268,\n        \"max\": 963180003,\n        \"num_unique_values\": 2,\n        \"samples\": [\n          963180003\n        ],\n        \"semantic_type\": \"\",\n        \"description\": \"\"\n      }\n    }\n  ]\n}"
            }
          },
          "metadata": {},
          "execution_count": 14
        }
      ]
    },
    {
      "cell_type": "markdown",
      "source": [
        "(voto: 5.0) ma con due sole recensioni"
      ],
      "metadata": {
        "id": "gpim9dXLgOAz"
      }
    },
    {
      "cell_type": "markdown",
      "source": [
        "#### Bayesian Average\n",
        "$r_i = \\frac{Cm + \\sum_{i=1}^n x_i}{C+n}$\n",
        "\n",
        "Dove *C* rappresenta il numero medio di voti per un determinato titolo (confidenza), *m* lo score medio tra tutti i film (media a priori), $x_i$ le recensioni, *n* il numero di voti per l'i-esimo titolo"
      ],
      "metadata": {
        "id": "ZTQyMg35iBpr"
      }
    },
    {
      "cell_type": "code",
      "source": [
        "movie_stats = ratings.groupby('movieId')['rating'].agg(['count', 'mean'])\n",
        "movie_stats.head()"
      ],
      "metadata": {
        "colab": {
          "base_uri": "https://localhost:8080/",
          "height": 238
        },
        "id": "KouoVmu5kzjF",
        "outputId": "13c64c3c-acfc-4303-dd46-27560cd85a85"
      },
      "execution_count": null,
      "outputs": [
        {
          "output_type": "execute_result",
          "data": {
            "text/plain": [
              "         count      mean\n",
              "movieId                 \n",
              "1          215  3.920930\n",
              "2          110  3.431818\n",
              "3           52  3.259615\n",
              "4            7  2.357143\n",
              "5           49  3.071429"
            ],
            "text/html": [
              "\n",
              "  <div id=\"df-a0c715d3-68a2-4b5e-8628-9d992baeb3f6\" class=\"colab-df-container\">\n",
              "    <div>\n",
              "<style scoped>\n",
              "    .dataframe tbody tr th:only-of-type {\n",
              "        vertical-align: middle;\n",
              "    }\n",
              "\n",
              "    .dataframe tbody tr th {\n",
              "        vertical-align: top;\n",
              "    }\n",
              "\n",
              "    .dataframe thead th {\n",
              "        text-align: right;\n",
              "    }\n",
              "</style>\n",
              "<table border=\"1\" class=\"dataframe\">\n",
              "  <thead>\n",
              "    <tr style=\"text-align: right;\">\n",
              "      <th></th>\n",
              "      <th>count</th>\n",
              "      <th>mean</th>\n",
              "    </tr>\n",
              "    <tr>\n",
              "      <th>movieId</th>\n",
              "      <th></th>\n",
              "      <th></th>\n",
              "    </tr>\n",
              "  </thead>\n",
              "  <tbody>\n",
              "    <tr>\n",
              "      <th>1</th>\n",
              "      <td>215</td>\n",
              "      <td>3.920930</td>\n",
              "    </tr>\n",
              "    <tr>\n",
              "      <th>2</th>\n",
              "      <td>110</td>\n",
              "      <td>3.431818</td>\n",
              "    </tr>\n",
              "    <tr>\n",
              "      <th>3</th>\n",
              "      <td>52</td>\n",
              "      <td>3.259615</td>\n",
              "    </tr>\n",
              "    <tr>\n",
              "      <th>4</th>\n",
              "      <td>7</td>\n",
              "      <td>2.357143</td>\n",
              "    </tr>\n",
              "    <tr>\n",
              "      <th>5</th>\n",
              "      <td>49</td>\n",
              "      <td>3.071429</td>\n",
              "    </tr>\n",
              "  </tbody>\n",
              "</table>\n",
              "</div>\n",
              "    <div class=\"colab-df-buttons\">\n",
              "\n",
              "  <div class=\"colab-df-container\">\n",
              "    <button class=\"colab-df-convert\" onclick=\"convertToInteractive('df-a0c715d3-68a2-4b5e-8628-9d992baeb3f6')\"\n",
              "            title=\"Convert this dataframe to an interactive table.\"\n",
              "            style=\"display:none;\">\n",
              "\n",
              "  <svg xmlns=\"http://www.w3.org/2000/svg\" height=\"24px\" viewBox=\"0 -960 960 960\">\n",
              "    <path d=\"M120-120v-720h720v720H120Zm60-500h600v-160H180v160Zm220 220h160v-160H400v160Zm0 220h160v-160H400v160ZM180-400h160v-160H180v160Zm440 0h160v-160H620v160ZM180-180h160v-160H180v160Zm440 0h160v-160H620v160Z\"/>\n",
              "  </svg>\n",
              "    </button>\n",
              "\n",
              "  <style>\n",
              "    .colab-df-container {\n",
              "      display:flex;\n",
              "      gap: 12px;\n",
              "    }\n",
              "\n",
              "    .colab-df-convert {\n",
              "      background-color: #E8F0FE;\n",
              "      border: none;\n",
              "      border-radius: 50%;\n",
              "      cursor: pointer;\n",
              "      display: none;\n",
              "      fill: #1967D2;\n",
              "      height: 32px;\n",
              "      padding: 0 0 0 0;\n",
              "      width: 32px;\n",
              "    }\n",
              "\n",
              "    .colab-df-convert:hover {\n",
              "      background-color: #E2EBFA;\n",
              "      box-shadow: 0px 1px 2px rgba(60, 64, 67, 0.3), 0px 1px 3px 1px rgba(60, 64, 67, 0.15);\n",
              "      fill: #174EA6;\n",
              "    }\n",
              "\n",
              "    .colab-df-buttons div {\n",
              "      margin-bottom: 4px;\n",
              "    }\n",
              "\n",
              "    [theme=dark] .colab-df-convert {\n",
              "      background-color: #3B4455;\n",
              "      fill: #D2E3FC;\n",
              "    }\n",
              "\n",
              "    [theme=dark] .colab-df-convert:hover {\n",
              "      background-color: #434B5C;\n",
              "      box-shadow: 0px 1px 3px 1px rgba(0, 0, 0, 0.15);\n",
              "      filter: drop-shadow(0px 1px 2px rgba(0, 0, 0, 0.3));\n",
              "      fill: #FFFFFF;\n",
              "    }\n",
              "  </style>\n",
              "\n",
              "    <script>\n",
              "      const buttonEl =\n",
              "        document.querySelector('#df-a0c715d3-68a2-4b5e-8628-9d992baeb3f6 button.colab-df-convert');\n",
              "      buttonEl.style.display =\n",
              "        google.colab.kernel.accessAllowed ? 'block' : 'none';\n",
              "\n",
              "      async function convertToInteractive(key) {\n",
              "        const element = document.querySelector('#df-a0c715d3-68a2-4b5e-8628-9d992baeb3f6');\n",
              "        const dataTable =\n",
              "          await google.colab.kernel.invokeFunction('convertToInteractive',\n",
              "                                                    [key], {});\n",
              "        if (!dataTable) return;\n",
              "\n",
              "        const docLinkHtml = 'Like what you see? Visit the ' +\n",
              "          '<a target=\"_blank\" href=https://colab.research.google.com/notebooks/data_table.ipynb>data table notebook</a>'\n",
              "          + ' to learn more about interactive tables.';\n",
              "        element.innerHTML = '';\n",
              "        dataTable['output_type'] = 'display_data';\n",
              "        await google.colab.output.renderOutput(dataTable, element);\n",
              "        const docLink = document.createElement('div');\n",
              "        docLink.innerHTML = docLinkHtml;\n",
              "        element.appendChild(docLink);\n",
              "      }\n",
              "    </script>\n",
              "  </div>\n",
              "\n",
              "\n",
              "<div id=\"df-1f4e3d18-825f-4345-90f3-695a7fdc4e21\">\n",
              "  <button class=\"colab-df-quickchart\" onclick=\"quickchart('df-1f4e3d18-825f-4345-90f3-695a7fdc4e21')\"\n",
              "            title=\"Suggest charts\"\n",
              "            style=\"display:none;\">\n",
              "\n",
              "<svg xmlns=\"http://www.w3.org/2000/svg\" height=\"24px\"viewBox=\"0 0 24 24\"\n",
              "     width=\"24px\">\n",
              "    <g>\n",
              "        <path d=\"M19 3H5c-1.1 0-2 .9-2 2v14c0 1.1.9 2 2 2h14c1.1 0 2-.9 2-2V5c0-1.1-.9-2-2-2zM9 17H7v-7h2v7zm4 0h-2V7h2v10zm4 0h-2v-4h2v4z\"/>\n",
              "    </g>\n",
              "</svg>\n",
              "  </button>\n",
              "\n",
              "<style>\n",
              "  .colab-df-quickchart {\n",
              "      --bg-color: #E8F0FE;\n",
              "      --fill-color: #1967D2;\n",
              "      --hover-bg-color: #E2EBFA;\n",
              "      --hover-fill-color: #174EA6;\n",
              "      --disabled-fill-color: #AAA;\n",
              "      --disabled-bg-color: #DDD;\n",
              "  }\n",
              "\n",
              "  [theme=dark] .colab-df-quickchart {\n",
              "      --bg-color: #3B4455;\n",
              "      --fill-color: #D2E3FC;\n",
              "      --hover-bg-color: #434B5C;\n",
              "      --hover-fill-color: #FFFFFF;\n",
              "      --disabled-bg-color: #3B4455;\n",
              "      --disabled-fill-color: #666;\n",
              "  }\n",
              "\n",
              "  .colab-df-quickchart {\n",
              "    background-color: var(--bg-color);\n",
              "    border: none;\n",
              "    border-radius: 50%;\n",
              "    cursor: pointer;\n",
              "    display: none;\n",
              "    fill: var(--fill-color);\n",
              "    height: 32px;\n",
              "    padding: 0;\n",
              "    width: 32px;\n",
              "  }\n",
              "\n",
              "  .colab-df-quickchart:hover {\n",
              "    background-color: var(--hover-bg-color);\n",
              "    box-shadow: 0 1px 2px rgba(60, 64, 67, 0.3), 0 1px 3px 1px rgba(60, 64, 67, 0.15);\n",
              "    fill: var(--button-hover-fill-color);\n",
              "  }\n",
              "\n",
              "  .colab-df-quickchart-complete:disabled,\n",
              "  .colab-df-quickchart-complete:disabled:hover {\n",
              "    background-color: var(--disabled-bg-color);\n",
              "    fill: var(--disabled-fill-color);\n",
              "    box-shadow: none;\n",
              "  }\n",
              "\n",
              "  .colab-df-spinner {\n",
              "    border: 2px solid var(--fill-color);\n",
              "    border-color: transparent;\n",
              "    border-bottom-color: var(--fill-color);\n",
              "    animation:\n",
              "      spin 1s steps(1) infinite;\n",
              "  }\n",
              "\n",
              "  @keyframes spin {\n",
              "    0% {\n",
              "      border-color: transparent;\n",
              "      border-bottom-color: var(--fill-color);\n",
              "      border-left-color: var(--fill-color);\n",
              "    }\n",
              "    20% {\n",
              "      border-color: transparent;\n",
              "      border-left-color: var(--fill-color);\n",
              "      border-top-color: var(--fill-color);\n",
              "    }\n",
              "    30% {\n",
              "      border-color: transparent;\n",
              "      border-left-color: var(--fill-color);\n",
              "      border-top-color: var(--fill-color);\n",
              "      border-right-color: var(--fill-color);\n",
              "    }\n",
              "    40% {\n",
              "      border-color: transparent;\n",
              "      border-right-color: var(--fill-color);\n",
              "      border-top-color: var(--fill-color);\n",
              "    }\n",
              "    60% {\n",
              "      border-color: transparent;\n",
              "      border-right-color: var(--fill-color);\n",
              "    }\n",
              "    80% {\n",
              "      border-color: transparent;\n",
              "      border-right-color: var(--fill-color);\n",
              "      border-bottom-color: var(--fill-color);\n",
              "    }\n",
              "    90% {\n",
              "      border-color: transparent;\n",
              "      border-bottom-color: var(--fill-color);\n",
              "    }\n",
              "  }\n",
              "</style>\n",
              "\n",
              "  <script>\n",
              "    async function quickchart(key) {\n",
              "      const quickchartButtonEl =\n",
              "        document.querySelector('#' + key + ' button');\n",
              "      quickchartButtonEl.disabled = true;  // To prevent multiple clicks.\n",
              "      quickchartButtonEl.classList.add('colab-df-spinner');\n",
              "      try {\n",
              "        const charts = await google.colab.kernel.invokeFunction(\n",
              "            'suggestCharts', [key], {});\n",
              "      } catch (error) {\n",
              "        console.error('Error during call to suggestCharts:', error);\n",
              "      }\n",
              "      quickchartButtonEl.classList.remove('colab-df-spinner');\n",
              "      quickchartButtonEl.classList.add('colab-df-quickchart-complete');\n",
              "    }\n",
              "    (() => {\n",
              "      let quickchartButtonEl =\n",
              "        document.querySelector('#df-1f4e3d18-825f-4345-90f3-695a7fdc4e21 button');\n",
              "      quickchartButtonEl.style.display =\n",
              "        google.colab.kernel.accessAllowed ? 'block' : 'none';\n",
              "    })();\n",
              "  </script>\n",
              "</div>\n",
              "\n",
              "    </div>\n",
              "  </div>\n"
            ],
            "application/vnd.google.colaboratory.intrinsic+json": {
              "type": "dataframe",
              "variable_name": "movie_stats",
              "summary": "{\n  \"name\": \"movie_stats\",\n  \"rows\": 9724,\n  \"fields\": [\n    {\n      \"column\": \"movieId\",\n      \"properties\": {\n        \"dtype\": \"number\",\n        \"std\": 52191,\n        \"min\": 1,\n        \"max\": 193609,\n        \"num_unique_values\": 9724,\n        \"samples\": [\n          1500,\n          114662,\n          5490\n        ],\n        \"semantic_type\": \"\",\n        \"description\": \"\"\n      }\n    },\n    {\n      \"column\": \"count\",\n      \"properties\": {\n        \"dtype\": \"number\",\n        \"std\": 22,\n        \"min\": 1,\n        \"max\": 329,\n        \"num_unique_values\": 177,\n        \"samples\": [\n          89,\n          17,\n          39\n        ],\n        \"semantic_type\": \"\",\n        \"description\": \"\"\n      }\n    },\n    {\n      \"column\": \"mean\",\n      \"properties\": {\n        \"dtype\": \"number\",\n        \"std\": 0.8698736344877788,\n        \"min\": 0.5,\n        \"max\": 5.0,\n        \"num_unique_values\": 1286,\n        \"samples\": [\n          3.9934210526315788,\n          3.657142857142857,\n          3.4423076923076925\n        ],\n        \"semantic_type\": \"\",\n        \"description\": \"\"\n      }\n    }\n  ]\n}"
            }
          },
          "metadata": {},
          "execution_count": 15
        }
      ]
    },
    {
      "cell_type": "markdown",
      "source": [
        "Otteniamo quindi per ogni film il **count** (quante voti ha ottenuto) e **mean** (la votazione media per quel titolo)."
      ],
      "metadata": {
        "id": "Y9kzlaBIlH5a"
      }
    },
    {
      "cell_type": "code",
      "source": [
        "C = movie_stats['count'].mean()\n",
        "m = movie_stats['mean'].mean()\n",
        "\n",
        "print(f\"Average number of ratings for a given movie: {C:.2f}\")\n",
        "print(f\"Average rating for a given movie: {m:.2f}\")\n",
        "\n",
        "def bayesian_avg(ratings):\n",
        "    bayesian_avg = (C*m+ratings.sum())/(C+ratings.count())\n",
        "    return round(bayesian_avg, 3)"
      ],
      "metadata": {
        "colab": {
          "base_uri": "https://localhost:8080/"
        },
        "id": "GgcLxAXZlWMe",
        "outputId": "beb9e942-2731-4728-b3f8-cb222e0b8e4e"
      },
      "execution_count": null,
      "outputs": [
        {
          "output_type": "stream",
          "name": "stdout",
          "text": [
            "Average number of ratings for a given movie: 10.37\n",
            "Average rating for a given movie: 3.26\n"
          ]
        }
      ]
    },
    {
      "cell_type": "markdown",
      "source": [
        "Proviamo la funziona **bayesian_avg** sul film *Lamerica*"
      ],
      "metadata": {
        "id": "Bpk00nenltrZ"
      }
    },
    {
      "cell_type": "code",
      "source": [
        "lamerica = pd.Series([5, 5])\n",
        "bayesian_avg(lamerica)"
      ],
      "metadata": {
        "colab": {
          "base_uri": "https://localhost:8080/"
        },
        "id": "xWzlmT8dl3s3",
        "outputId": "312cba3c-9999-4f0b-b787-c5f324f3ea83"
      },
      "execution_count": null,
      "outputs": [
        {
          "output_type": "execute_result",
          "data": {
            "text/plain": [
              "3.543"
            ]
          },
          "metadata": {},
          "execution_count": 17
        }
      ]
    },
    {
      "cell_type": "markdown",
      "source": [
        "Otteniamo una votazione nettamente inferiore al 5.0 ottenuta precedentemente.\n",
        "\n",
        "\\\\\n",
        "\n",
        "Applico adesso la media bayesiaa a tutti i film nel dataset:"
      ],
      "metadata": {
        "id": "4et4H5R2l5Qe"
      }
    },
    {
      "cell_type": "code",
      "source": [
        "bayesian_avg_ratings = ratings.groupby('movieId')['rating'].agg(bayesian_avg).reset_index() # reset_index() lo metto per trasformare una lista in un dataframe\n",
        "bayesian_avg_ratings.columns = ['movieId', 'bayesian_avg']\n",
        "movie_stats = movie_stats.merge(bayesian_avg_ratings, on='movieId') # ha il movieId, numero di recensioni, media dei voti e media bayesiana"
      ],
      "metadata": {
        "id": "i6DLee-BmEZ-"
      },
      "execution_count": null,
      "outputs": []
    },
    {
      "cell_type": "code",
      "source": [
        "movie_stats = movie_stats.merge(movies[['movieId', 'title']]) # agiungiamoil titolo a movie_statis creato prima\n",
        "movie_stats.sort_values('bayesian_avg', ascending=False).head() # stampo le prime cinque righe ordinate per media bayesiana (dalla più alta alla più bassa)"
      ],
      "metadata": {
        "colab": {
          "base_uri": "https://localhost:8080/",
          "height": 206
        },
        "id": "Nvk4sHqarW_h",
        "outputId": "280f11c0-20bc-429f-ee2d-8d1f6d7a2a5c"
      },
      "execution_count": null,
      "outputs": [
        {
          "output_type": "execute_result",
          "data": {
            "text/plain": [
              "      movieId  count      mean  bayesian_avg  \\\n",
              "277       318    317  4.429022         4.392   \n",
              "659       858    192  4.289062         4.236   \n",
              "2224     2959    218  4.272936         4.227   \n",
              "224       260    251  4.231076         4.193   \n",
              "46         50    204  4.237745         4.191   \n",
              "\n",
              "                                          title  \n",
              "277            Shawshank Redemption, The (1994)  \n",
              "659                       Godfather, The (1972)  \n",
              "2224                          Fight Club (1999)  \n",
              "224   Star Wars: Episode IV - A New Hope (1977)  \n",
              "46                   Usual Suspects, The (1995)  "
            ],
            "text/html": [
              "\n",
              "  <div id=\"df-c640ddbe-2f0a-408c-b38e-056f3f100076\" class=\"colab-df-container\">\n",
              "    <div>\n",
              "<style scoped>\n",
              "    .dataframe tbody tr th:only-of-type {\n",
              "        vertical-align: middle;\n",
              "    }\n",
              "\n",
              "    .dataframe tbody tr th {\n",
              "        vertical-align: top;\n",
              "    }\n",
              "\n",
              "    .dataframe thead th {\n",
              "        text-align: right;\n",
              "    }\n",
              "</style>\n",
              "<table border=\"1\" class=\"dataframe\">\n",
              "  <thead>\n",
              "    <tr style=\"text-align: right;\">\n",
              "      <th></th>\n",
              "      <th>movieId</th>\n",
              "      <th>count</th>\n",
              "      <th>mean</th>\n",
              "      <th>bayesian_avg</th>\n",
              "      <th>title</th>\n",
              "    </tr>\n",
              "  </thead>\n",
              "  <tbody>\n",
              "    <tr>\n",
              "      <th>277</th>\n",
              "      <td>318</td>\n",
              "      <td>317</td>\n",
              "      <td>4.429022</td>\n",
              "      <td>4.392</td>\n",
              "      <td>Shawshank Redemption, The (1994)</td>\n",
              "    </tr>\n",
              "    <tr>\n",
              "      <th>659</th>\n",
              "      <td>858</td>\n",
              "      <td>192</td>\n",
              "      <td>4.289062</td>\n",
              "      <td>4.236</td>\n",
              "      <td>Godfather, The (1972)</td>\n",
              "    </tr>\n",
              "    <tr>\n",
              "      <th>2224</th>\n",
              "      <td>2959</td>\n",
              "      <td>218</td>\n",
              "      <td>4.272936</td>\n",
              "      <td>4.227</td>\n",
              "      <td>Fight Club (1999)</td>\n",
              "    </tr>\n",
              "    <tr>\n",
              "      <th>224</th>\n",
              "      <td>260</td>\n",
              "      <td>251</td>\n",
              "      <td>4.231076</td>\n",
              "      <td>4.193</td>\n",
              "      <td>Star Wars: Episode IV - A New Hope (1977)</td>\n",
              "    </tr>\n",
              "    <tr>\n",
              "      <th>46</th>\n",
              "      <td>50</td>\n",
              "      <td>204</td>\n",
              "      <td>4.237745</td>\n",
              "      <td>4.191</td>\n",
              "      <td>Usual Suspects, The (1995)</td>\n",
              "    </tr>\n",
              "  </tbody>\n",
              "</table>\n",
              "</div>\n",
              "    <div class=\"colab-df-buttons\">\n",
              "\n",
              "  <div class=\"colab-df-container\">\n",
              "    <button class=\"colab-df-convert\" onclick=\"convertToInteractive('df-c640ddbe-2f0a-408c-b38e-056f3f100076')\"\n",
              "            title=\"Convert this dataframe to an interactive table.\"\n",
              "            style=\"display:none;\">\n",
              "\n",
              "  <svg xmlns=\"http://www.w3.org/2000/svg\" height=\"24px\" viewBox=\"0 -960 960 960\">\n",
              "    <path d=\"M120-120v-720h720v720H120Zm60-500h600v-160H180v160Zm220 220h160v-160H400v160Zm0 220h160v-160H400v160ZM180-400h160v-160H180v160Zm440 0h160v-160H620v160ZM180-180h160v-160H180v160Zm440 0h160v-160H620v160Z\"/>\n",
              "  </svg>\n",
              "    </button>\n",
              "\n",
              "  <style>\n",
              "    .colab-df-container {\n",
              "      display:flex;\n",
              "      gap: 12px;\n",
              "    }\n",
              "\n",
              "    .colab-df-convert {\n",
              "      background-color: #E8F0FE;\n",
              "      border: none;\n",
              "      border-radius: 50%;\n",
              "      cursor: pointer;\n",
              "      display: none;\n",
              "      fill: #1967D2;\n",
              "      height: 32px;\n",
              "      padding: 0 0 0 0;\n",
              "      width: 32px;\n",
              "    }\n",
              "\n",
              "    .colab-df-convert:hover {\n",
              "      background-color: #E2EBFA;\n",
              "      box-shadow: 0px 1px 2px rgba(60, 64, 67, 0.3), 0px 1px 3px 1px rgba(60, 64, 67, 0.15);\n",
              "      fill: #174EA6;\n",
              "    }\n",
              "\n",
              "    .colab-df-buttons div {\n",
              "      margin-bottom: 4px;\n",
              "    }\n",
              "\n",
              "    [theme=dark] .colab-df-convert {\n",
              "      background-color: #3B4455;\n",
              "      fill: #D2E3FC;\n",
              "    }\n",
              "\n",
              "    [theme=dark] .colab-df-convert:hover {\n",
              "      background-color: #434B5C;\n",
              "      box-shadow: 0px 1px 3px 1px rgba(0, 0, 0, 0.15);\n",
              "      filter: drop-shadow(0px 1px 2px rgba(0, 0, 0, 0.3));\n",
              "      fill: #FFFFFF;\n",
              "    }\n",
              "  </style>\n",
              "\n",
              "    <script>\n",
              "      const buttonEl =\n",
              "        document.querySelector('#df-c640ddbe-2f0a-408c-b38e-056f3f100076 button.colab-df-convert');\n",
              "      buttonEl.style.display =\n",
              "        google.colab.kernel.accessAllowed ? 'block' : 'none';\n",
              "\n",
              "      async function convertToInteractive(key) {\n",
              "        const element = document.querySelector('#df-c640ddbe-2f0a-408c-b38e-056f3f100076');\n",
              "        const dataTable =\n",
              "          await google.colab.kernel.invokeFunction('convertToInteractive',\n",
              "                                                    [key], {});\n",
              "        if (!dataTable) return;\n",
              "\n",
              "        const docLinkHtml = 'Like what you see? Visit the ' +\n",
              "          '<a target=\"_blank\" href=https://colab.research.google.com/notebooks/data_table.ipynb>data table notebook</a>'\n",
              "          + ' to learn more about interactive tables.';\n",
              "        element.innerHTML = '';\n",
              "        dataTable['output_type'] = 'display_data';\n",
              "        await google.colab.output.renderOutput(dataTable, element);\n",
              "        const docLink = document.createElement('div');\n",
              "        docLink.innerHTML = docLinkHtml;\n",
              "        element.appendChild(docLink);\n",
              "      }\n",
              "    </script>\n",
              "  </div>\n",
              "\n",
              "\n",
              "<div id=\"df-04beaabe-7f65-4dde-bebc-d66430de34b8\">\n",
              "  <button class=\"colab-df-quickchart\" onclick=\"quickchart('df-04beaabe-7f65-4dde-bebc-d66430de34b8')\"\n",
              "            title=\"Suggest charts\"\n",
              "            style=\"display:none;\">\n",
              "\n",
              "<svg xmlns=\"http://www.w3.org/2000/svg\" height=\"24px\"viewBox=\"0 0 24 24\"\n",
              "     width=\"24px\">\n",
              "    <g>\n",
              "        <path d=\"M19 3H5c-1.1 0-2 .9-2 2v14c0 1.1.9 2 2 2h14c1.1 0 2-.9 2-2V5c0-1.1-.9-2-2-2zM9 17H7v-7h2v7zm4 0h-2V7h2v10zm4 0h-2v-4h2v4z\"/>\n",
              "    </g>\n",
              "</svg>\n",
              "  </button>\n",
              "\n",
              "<style>\n",
              "  .colab-df-quickchart {\n",
              "      --bg-color: #E8F0FE;\n",
              "      --fill-color: #1967D2;\n",
              "      --hover-bg-color: #E2EBFA;\n",
              "      --hover-fill-color: #174EA6;\n",
              "      --disabled-fill-color: #AAA;\n",
              "      --disabled-bg-color: #DDD;\n",
              "  }\n",
              "\n",
              "  [theme=dark] .colab-df-quickchart {\n",
              "      --bg-color: #3B4455;\n",
              "      --fill-color: #D2E3FC;\n",
              "      --hover-bg-color: #434B5C;\n",
              "      --hover-fill-color: #FFFFFF;\n",
              "      --disabled-bg-color: #3B4455;\n",
              "      --disabled-fill-color: #666;\n",
              "  }\n",
              "\n",
              "  .colab-df-quickchart {\n",
              "    background-color: var(--bg-color);\n",
              "    border: none;\n",
              "    border-radius: 50%;\n",
              "    cursor: pointer;\n",
              "    display: none;\n",
              "    fill: var(--fill-color);\n",
              "    height: 32px;\n",
              "    padding: 0;\n",
              "    width: 32px;\n",
              "  }\n",
              "\n",
              "  .colab-df-quickchart:hover {\n",
              "    background-color: var(--hover-bg-color);\n",
              "    box-shadow: 0 1px 2px rgba(60, 64, 67, 0.3), 0 1px 3px 1px rgba(60, 64, 67, 0.15);\n",
              "    fill: var(--button-hover-fill-color);\n",
              "  }\n",
              "\n",
              "  .colab-df-quickchart-complete:disabled,\n",
              "  .colab-df-quickchart-complete:disabled:hover {\n",
              "    background-color: var(--disabled-bg-color);\n",
              "    fill: var(--disabled-fill-color);\n",
              "    box-shadow: none;\n",
              "  }\n",
              "\n",
              "  .colab-df-spinner {\n",
              "    border: 2px solid var(--fill-color);\n",
              "    border-color: transparent;\n",
              "    border-bottom-color: var(--fill-color);\n",
              "    animation:\n",
              "      spin 1s steps(1) infinite;\n",
              "  }\n",
              "\n",
              "  @keyframes spin {\n",
              "    0% {\n",
              "      border-color: transparent;\n",
              "      border-bottom-color: var(--fill-color);\n",
              "      border-left-color: var(--fill-color);\n",
              "    }\n",
              "    20% {\n",
              "      border-color: transparent;\n",
              "      border-left-color: var(--fill-color);\n",
              "      border-top-color: var(--fill-color);\n",
              "    }\n",
              "    30% {\n",
              "      border-color: transparent;\n",
              "      border-left-color: var(--fill-color);\n",
              "      border-top-color: var(--fill-color);\n",
              "      border-right-color: var(--fill-color);\n",
              "    }\n",
              "    40% {\n",
              "      border-color: transparent;\n",
              "      border-right-color: var(--fill-color);\n",
              "      border-top-color: var(--fill-color);\n",
              "    }\n",
              "    60% {\n",
              "      border-color: transparent;\n",
              "      border-right-color: var(--fill-color);\n",
              "    }\n",
              "    80% {\n",
              "      border-color: transparent;\n",
              "      border-right-color: var(--fill-color);\n",
              "      border-bottom-color: var(--fill-color);\n",
              "    }\n",
              "    90% {\n",
              "      border-color: transparent;\n",
              "      border-bottom-color: var(--fill-color);\n",
              "    }\n",
              "  }\n",
              "</style>\n",
              "\n",
              "  <script>\n",
              "    async function quickchart(key) {\n",
              "      const quickchartButtonEl =\n",
              "        document.querySelector('#' + key + ' button');\n",
              "      quickchartButtonEl.disabled = true;  // To prevent multiple clicks.\n",
              "      quickchartButtonEl.classList.add('colab-df-spinner');\n",
              "      try {\n",
              "        const charts = await google.colab.kernel.invokeFunction(\n",
              "            'suggestCharts', [key], {});\n",
              "      } catch (error) {\n",
              "        console.error('Error during call to suggestCharts:', error);\n",
              "      }\n",
              "      quickchartButtonEl.classList.remove('colab-df-spinner');\n",
              "      quickchartButtonEl.classList.add('colab-df-quickchart-complete');\n",
              "    }\n",
              "    (() => {\n",
              "      let quickchartButtonEl =\n",
              "        document.querySelector('#df-04beaabe-7f65-4dde-bebc-d66430de34b8 button');\n",
              "      quickchartButtonEl.style.display =\n",
              "        google.colab.kernel.accessAllowed ? 'block' : 'none';\n",
              "    })();\n",
              "  </script>\n",
              "</div>\n",
              "\n",
              "    </div>\n",
              "  </div>\n"
            ],
            "application/vnd.google.colaboratory.intrinsic+json": {
              "type": "dataframe",
              "summary": "{\n  \"name\": \"movie_stats\",\n  \"rows\": 5,\n  \"fields\": [\n    {\n      \"column\": \"movieId\",\n      \"properties\": {\n        \"dtype\": \"number\",\n        \"std\": 1194,\n        \"min\": 50,\n        \"max\": 2959,\n        \"num_unique_values\": 5,\n        \"samples\": [\n          858,\n          50,\n          2959\n        ],\n        \"semantic_type\": \"\",\n        \"description\": \"\"\n      }\n    },\n    {\n      \"column\": \"count\",\n      \"properties\": {\n        \"dtype\": \"number\",\n        \"std\": 50,\n        \"min\": 192,\n        \"max\": 317,\n        \"num_unique_values\": 5,\n        \"samples\": [\n          192,\n          204,\n          218\n        ],\n        \"semantic_type\": \"\",\n        \"description\": \"\"\n      }\n    },\n    {\n      \"column\": \"mean\",\n      \"properties\": {\n        \"dtype\": \"number\",\n        \"std\": 0.08031575867960633,\n        \"min\": 4.231075697211155,\n        \"max\": 4.429022082018927,\n        \"num_unique_values\": 5,\n        \"samples\": [\n          4.2890625,\n          4.237745098039215,\n          4.272935779816514\n        ],\n        \"semantic_type\": \"\",\n        \"description\": \"\"\n      }\n    },\n    {\n      \"column\": \"bayesian_avg\",\n      \"properties\": {\n        \"dtype\": \"number\",\n        \"std\": 0.08305841318012305,\n        \"min\": 4.191,\n        \"max\": 4.392,\n        \"num_unique_values\": 5,\n        \"samples\": [\n          4.236,\n          4.191,\n          4.227\n        ],\n        \"semantic_type\": \"\",\n        \"description\": \"\"\n      }\n    },\n    {\n      \"column\": \"title\",\n      \"properties\": {\n        \"dtype\": \"string\",\n        \"num_unique_values\": 5,\n        \"samples\": [\n          \"Godfather, The (1972)\",\n          \"Usual Suspects, The (1995)\",\n          \"Fight Club (1999)\"\n        ],\n        \"semantic_type\": \"\",\n        \"description\": \"\"\n      }\n    }\n  ]\n}"
            }
          },
          "metadata": {},
          "execution_count": 19
        }
      ]
    },
    {
      "cell_type": "markdown",
      "source": [
        "Quindi *The Shanwshank Redemption* (Le ali della libertà) è il film con la votazione più alta."
      ],
      "metadata": {
        "id": "5W2a6zlEssVd"
      }
    },
    {
      "cell_type": "code",
      "source": [
        "movie_stats.sort_values('bayesian_avg', ascending=True).head()"
      ],
      "metadata": {
        "colab": {
          "base_uri": "https://localhost:8080/",
          "height": 206
        },
        "id": "WgogbT01s46Q",
        "outputId": "1fcebe3b-b196-403a-af72-574a84107fa9"
      },
      "execution_count": null,
      "outputs": [
        {
          "output_type": "execute_result",
          "data": {
            "text/plain": [
              "      movieId  count      mean  bayesian_avg  \\\n",
              "1172     1556     19  1.605263         2.190   \n",
              "2679     3593     19  1.657895         2.224   \n",
              "1372     1882     33  1.954545         2.267   \n",
              "1144     1499     27  1.925926         2.297   \n",
              "1988     2643     16  1.687500         2.307   \n",
              "\n",
              "                                        title  \n",
              "1172           Speed 2: Cruise Control (1997)  \n",
              "2679                 Battlefield Earth (2000)  \n",
              "1372                          Godzilla (1998)  \n",
              "1144                          Anaconda (1997)  \n",
              "1988  Superman IV: The Quest for Peace (1987)  "
            ],
            "text/html": [
              "\n",
              "  <div id=\"df-dbcd2bc1-06a6-46b9-9dfc-dab5ffe8df01\" class=\"colab-df-container\">\n",
              "    <div>\n",
              "<style scoped>\n",
              "    .dataframe tbody tr th:only-of-type {\n",
              "        vertical-align: middle;\n",
              "    }\n",
              "\n",
              "    .dataframe tbody tr th {\n",
              "        vertical-align: top;\n",
              "    }\n",
              "\n",
              "    .dataframe thead th {\n",
              "        text-align: right;\n",
              "    }\n",
              "</style>\n",
              "<table border=\"1\" class=\"dataframe\">\n",
              "  <thead>\n",
              "    <tr style=\"text-align: right;\">\n",
              "      <th></th>\n",
              "      <th>movieId</th>\n",
              "      <th>count</th>\n",
              "      <th>mean</th>\n",
              "      <th>bayesian_avg</th>\n",
              "      <th>title</th>\n",
              "    </tr>\n",
              "  </thead>\n",
              "  <tbody>\n",
              "    <tr>\n",
              "      <th>1172</th>\n",
              "      <td>1556</td>\n",
              "      <td>19</td>\n",
              "      <td>1.605263</td>\n",
              "      <td>2.190</td>\n",
              "      <td>Speed 2: Cruise Control (1997)</td>\n",
              "    </tr>\n",
              "    <tr>\n",
              "      <th>2679</th>\n",
              "      <td>3593</td>\n",
              "      <td>19</td>\n",
              "      <td>1.657895</td>\n",
              "      <td>2.224</td>\n",
              "      <td>Battlefield Earth (2000)</td>\n",
              "    </tr>\n",
              "    <tr>\n",
              "      <th>1372</th>\n",
              "      <td>1882</td>\n",
              "      <td>33</td>\n",
              "      <td>1.954545</td>\n",
              "      <td>2.267</td>\n",
              "      <td>Godzilla (1998)</td>\n",
              "    </tr>\n",
              "    <tr>\n",
              "      <th>1144</th>\n",
              "      <td>1499</td>\n",
              "      <td>27</td>\n",
              "      <td>1.925926</td>\n",
              "      <td>2.297</td>\n",
              "      <td>Anaconda (1997)</td>\n",
              "    </tr>\n",
              "    <tr>\n",
              "      <th>1988</th>\n",
              "      <td>2643</td>\n",
              "      <td>16</td>\n",
              "      <td>1.687500</td>\n",
              "      <td>2.307</td>\n",
              "      <td>Superman IV: The Quest for Peace (1987)</td>\n",
              "    </tr>\n",
              "  </tbody>\n",
              "</table>\n",
              "</div>\n",
              "    <div class=\"colab-df-buttons\">\n",
              "\n",
              "  <div class=\"colab-df-container\">\n",
              "    <button class=\"colab-df-convert\" onclick=\"convertToInteractive('df-dbcd2bc1-06a6-46b9-9dfc-dab5ffe8df01')\"\n",
              "            title=\"Convert this dataframe to an interactive table.\"\n",
              "            style=\"display:none;\">\n",
              "\n",
              "  <svg xmlns=\"http://www.w3.org/2000/svg\" height=\"24px\" viewBox=\"0 -960 960 960\">\n",
              "    <path d=\"M120-120v-720h720v720H120Zm60-500h600v-160H180v160Zm220 220h160v-160H400v160Zm0 220h160v-160H400v160ZM180-400h160v-160H180v160Zm440 0h160v-160H620v160ZM180-180h160v-160H180v160Zm440 0h160v-160H620v160Z\"/>\n",
              "  </svg>\n",
              "    </button>\n",
              "\n",
              "  <style>\n",
              "    .colab-df-container {\n",
              "      display:flex;\n",
              "      gap: 12px;\n",
              "    }\n",
              "\n",
              "    .colab-df-convert {\n",
              "      background-color: #E8F0FE;\n",
              "      border: none;\n",
              "      border-radius: 50%;\n",
              "      cursor: pointer;\n",
              "      display: none;\n",
              "      fill: #1967D2;\n",
              "      height: 32px;\n",
              "      padding: 0 0 0 0;\n",
              "      width: 32px;\n",
              "    }\n",
              "\n",
              "    .colab-df-convert:hover {\n",
              "      background-color: #E2EBFA;\n",
              "      box-shadow: 0px 1px 2px rgba(60, 64, 67, 0.3), 0px 1px 3px 1px rgba(60, 64, 67, 0.15);\n",
              "      fill: #174EA6;\n",
              "    }\n",
              "\n",
              "    .colab-df-buttons div {\n",
              "      margin-bottom: 4px;\n",
              "    }\n",
              "\n",
              "    [theme=dark] .colab-df-convert {\n",
              "      background-color: #3B4455;\n",
              "      fill: #D2E3FC;\n",
              "    }\n",
              "\n",
              "    [theme=dark] .colab-df-convert:hover {\n",
              "      background-color: #434B5C;\n",
              "      box-shadow: 0px 1px 3px 1px rgba(0, 0, 0, 0.15);\n",
              "      filter: drop-shadow(0px 1px 2px rgba(0, 0, 0, 0.3));\n",
              "      fill: #FFFFFF;\n",
              "    }\n",
              "  </style>\n",
              "\n",
              "    <script>\n",
              "      const buttonEl =\n",
              "        document.querySelector('#df-dbcd2bc1-06a6-46b9-9dfc-dab5ffe8df01 button.colab-df-convert');\n",
              "      buttonEl.style.display =\n",
              "        google.colab.kernel.accessAllowed ? 'block' : 'none';\n",
              "\n",
              "      async function convertToInteractive(key) {\n",
              "        const element = document.querySelector('#df-dbcd2bc1-06a6-46b9-9dfc-dab5ffe8df01');\n",
              "        const dataTable =\n",
              "          await google.colab.kernel.invokeFunction('convertToInteractive',\n",
              "                                                    [key], {});\n",
              "        if (!dataTable) return;\n",
              "\n",
              "        const docLinkHtml = 'Like what you see? Visit the ' +\n",
              "          '<a target=\"_blank\" href=https://colab.research.google.com/notebooks/data_table.ipynb>data table notebook</a>'\n",
              "          + ' to learn more about interactive tables.';\n",
              "        element.innerHTML = '';\n",
              "        dataTable['output_type'] = 'display_data';\n",
              "        await google.colab.output.renderOutput(dataTable, element);\n",
              "        const docLink = document.createElement('div');\n",
              "        docLink.innerHTML = docLinkHtml;\n",
              "        element.appendChild(docLink);\n",
              "      }\n",
              "    </script>\n",
              "  </div>\n",
              "\n",
              "\n",
              "<div id=\"df-f673abbc-2dc6-4083-a7f6-fc10c4d832ed\">\n",
              "  <button class=\"colab-df-quickchart\" onclick=\"quickchart('df-f673abbc-2dc6-4083-a7f6-fc10c4d832ed')\"\n",
              "            title=\"Suggest charts\"\n",
              "            style=\"display:none;\">\n",
              "\n",
              "<svg xmlns=\"http://www.w3.org/2000/svg\" height=\"24px\"viewBox=\"0 0 24 24\"\n",
              "     width=\"24px\">\n",
              "    <g>\n",
              "        <path d=\"M19 3H5c-1.1 0-2 .9-2 2v14c0 1.1.9 2 2 2h14c1.1 0 2-.9 2-2V5c0-1.1-.9-2-2-2zM9 17H7v-7h2v7zm4 0h-2V7h2v10zm4 0h-2v-4h2v4z\"/>\n",
              "    </g>\n",
              "</svg>\n",
              "  </button>\n",
              "\n",
              "<style>\n",
              "  .colab-df-quickchart {\n",
              "      --bg-color: #E8F0FE;\n",
              "      --fill-color: #1967D2;\n",
              "      --hover-bg-color: #E2EBFA;\n",
              "      --hover-fill-color: #174EA6;\n",
              "      --disabled-fill-color: #AAA;\n",
              "      --disabled-bg-color: #DDD;\n",
              "  }\n",
              "\n",
              "  [theme=dark] .colab-df-quickchart {\n",
              "      --bg-color: #3B4455;\n",
              "      --fill-color: #D2E3FC;\n",
              "      --hover-bg-color: #434B5C;\n",
              "      --hover-fill-color: #FFFFFF;\n",
              "      --disabled-bg-color: #3B4455;\n",
              "      --disabled-fill-color: #666;\n",
              "  }\n",
              "\n",
              "  .colab-df-quickchart {\n",
              "    background-color: var(--bg-color);\n",
              "    border: none;\n",
              "    border-radius: 50%;\n",
              "    cursor: pointer;\n",
              "    display: none;\n",
              "    fill: var(--fill-color);\n",
              "    height: 32px;\n",
              "    padding: 0;\n",
              "    width: 32px;\n",
              "  }\n",
              "\n",
              "  .colab-df-quickchart:hover {\n",
              "    background-color: var(--hover-bg-color);\n",
              "    box-shadow: 0 1px 2px rgba(60, 64, 67, 0.3), 0 1px 3px 1px rgba(60, 64, 67, 0.15);\n",
              "    fill: var(--button-hover-fill-color);\n",
              "  }\n",
              "\n",
              "  .colab-df-quickchart-complete:disabled,\n",
              "  .colab-df-quickchart-complete:disabled:hover {\n",
              "    background-color: var(--disabled-bg-color);\n",
              "    fill: var(--disabled-fill-color);\n",
              "    box-shadow: none;\n",
              "  }\n",
              "\n",
              "  .colab-df-spinner {\n",
              "    border: 2px solid var(--fill-color);\n",
              "    border-color: transparent;\n",
              "    border-bottom-color: var(--fill-color);\n",
              "    animation:\n",
              "      spin 1s steps(1) infinite;\n",
              "  }\n",
              "\n",
              "  @keyframes spin {\n",
              "    0% {\n",
              "      border-color: transparent;\n",
              "      border-bottom-color: var(--fill-color);\n",
              "      border-left-color: var(--fill-color);\n",
              "    }\n",
              "    20% {\n",
              "      border-color: transparent;\n",
              "      border-left-color: var(--fill-color);\n",
              "      border-top-color: var(--fill-color);\n",
              "    }\n",
              "    30% {\n",
              "      border-color: transparent;\n",
              "      border-left-color: var(--fill-color);\n",
              "      border-top-color: var(--fill-color);\n",
              "      border-right-color: var(--fill-color);\n",
              "    }\n",
              "    40% {\n",
              "      border-color: transparent;\n",
              "      border-right-color: var(--fill-color);\n",
              "      border-top-color: var(--fill-color);\n",
              "    }\n",
              "    60% {\n",
              "      border-color: transparent;\n",
              "      border-right-color: var(--fill-color);\n",
              "    }\n",
              "    80% {\n",
              "      border-color: transparent;\n",
              "      border-right-color: var(--fill-color);\n",
              "      border-bottom-color: var(--fill-color);\n",
              "    }\n",
              "    90% {\n",
              "      border-color: transparent;\n",
              "      border-bottom-color: var(--fill-color);\n",
              "    }\n",
              "  }\n",
              "</style>\n",
              "\n",
              "  <script>\n",
              "    async function quickchart(key) {\n",
              "      const quickchartButtonEl =\n",
              "        document.querySelector('#' + key + ' button');\n",
              "      quickchartButtonEl.disabled = true;  // To prevent multiple clicks.\n",
              "      quickchartButtonEl.classList.add('colab-df-spinner');\n",
              "      try {\n",
              "        const charts = await google.colab.kernel.invokeFunction(\n",
              "            'suggestCharts', [key], {});\n",
              "      } catch (error) {\n",
              "        console.error('Error during call to suggestCharts:', error);\n",
              "      }\n",
              "      quickchartButtonEl.classList.remove('colab-df-spinner');\n",
              "      quickchartButtonEl.classList.add('colab-df-quickchart-complete');\n",
              "    }\n",
              "    (() => {\n",
              "      let quickchartButtonEl =\n",
              "        document.querySelector('#df-f673abbc-2dc6-4083-a7f6-fc10c4d832ed button');\n",
              "      quickchartButtonEl.style.display =\n",
              "        google.colab.kernel.accessAllowed ? 'block' : 'none';\n",
              "    })();\n",
              "  </script>\n",
              "</div>\n",
              "\n",
              "    </div>\n",
              "  </div>\n"
            ],
            "application/vnd.google.colaboratory.intrinsic+json": {
              "type": "dataframe",
              "summary": "{\n  \"name\": \"movie_stats\",\n  \"rows\": 5,\n  \"fields\": [\n    {\n      \"column\": \"movieId\",\n      \"properties\": {\n        \"dtype\": \"number\",\n        \"std\": 885,\n        \"min\": 1499,\n        \"max\": 3593,\n        \"num_unique_values\": 5,\n        \"samples\": [\n          3593,\n          2643,\n          1882\n        ],\n        \"semantic_type\": \"\",\n        \"description\": \"\"\n      }\n    },\n    {\n      \"column\": \"count\",\n      \"properties\": {\n        \"dtype\": \"number\",\n        \"std\": 7,\n        \"min\": 16,\n        \"max\": 33,\n        \"num_unique_values\": 4,\n        \"samples\": [\n          33,\n          16,\n          19\n        ],\n        \"semantic_type\": \"\",\n        \"description\": \"\"\n      }\n    },\n    {\n      \"column\": \"mean\",\n      \"properties\": {\n        \"dtype\": \"number\",\n        \"std\": 0.16187245402857117,\n        \"min\": 1.605263157894737,\n        \"max\": 1.9545454545454546,\n        \"num_unique_values\": 5,\n        \"samples\": [\n          1.6578947368421053,\n          1.6875,\n          1.9545454545454546\n        ],\n        \"semantic_type\": \"\",\n        \"description\": \"\"\n      }\n    },\n    {\n      \"column\": \"bayesian_avg\",\n      \"properties\": {\n        \"dtype\": \"number\",\n        \"std\": 0.04944188507733094,\n        \"min\": 2.19,\n        \"max\": 2.307,\n        \"num_unique_values\": 5,\n        \"samples\": [\n          2.224,\n          2.307,\n          2.267\n        ],\n        \"semantic_type\": \"\",\n        \"description\": \"\"\n      }\n    },\n    {\n      \"column\": \"title\",\n      \"properties\": {\n        \"dtype\": \"string\",\n        \"num_unique_values\": 5,\n        \"samples\": [\n          \"Battlefield Earth (2000)\",\n          \"Superman IV: The Quest for Peace (1987)\",\n          \"Godzilla (1998)\"\n        ],\n        \"semantic_type\": \"\",\n        \"description\": \"\"\n      }\n    }\n  ]\n}"
            }
          },
          "metadata": {},
          "execution_count": 20
        }
      ]
    },
    {
      "cell_type": "markdown",
      "source": [
        "Mentre *Speed 2* risulta uno dei peggiori film, secondo la media Bayesiana. Quindi *Gypsy* non è detto che sia un pessimo film."
      ],
      "metadata": {
        "id": "NOpRaBf0s99O"
      }
    },
    {
      "cell_type": "markdown",
      "source": [
        "### Genere di Film\n",
        "I **generi** sono presi da un'unica stringa. Questi sono separati l'uno dall'altro attraverso una pipe `|`. Possiamo manipolare questa stringa in una lista per semplificare l'analisi.\n",
        "\n",
        "\\\\\n",
        "\n",
        "Alla fine di ogni **titolo** c'è l'anno di uscita tra parentesi tonde. Possiamo estrarlo da ogni film e creare una nuova colonna **year**.\n",
        "\n",
        "\\\\"
      ],
      "metadata": {
        "id": "J1746syFtb6U"
      }
    },
    {
      "cell_type": "code",
      "source": [
        "movies['genres'] = movies['genres'].apply(lambda x: x.split(\"|\"))\n",
        "movies.head()"
      ],
      "metadata": {
        "colab": {
          "base_uri": "https://localhost:8080/",
          "height": 206
        },
        "id": "W-X7B2NyvPyA",
        "outputId": "86d8a175-312a-4990-f420-6e4d663a63a8"
      },
      "execution_count": null,
      "outputs": [
        {
          "output_type": "execute_result",
          "data": {
            "text/plain": [
              "   movieId                               title  \\\n",
              "0        1                    Toy Story (1995)   \n",
              "1        2                      Jumanji (1995)   \n",
              "2        3             Grumpier Old Men (1995)   \n",
              "3        4            Waiting to Exhale (1995)   \n",
              "4        5  Father of the Bride Part II (1995)   \n",
              "\n",
              "                                              genres  \n",
              "0  [Adventure, Animation, Children, Comedy, Fantasy]  \n",
              "1                     [Adventure, Children, Fantasy]  \n",
              "2                                  [Comedy, Romance]  \n",
              "3                           [Comedy, Drama, Romance]  \n",
              "4                                           [Comedy]  "
            ],
            "text/html": [
              "\n",
              "  <div id=\"df-98dc6070-7c5c-4567-8cff-b1466492b2c1\" class=\"colab-df-container\">\n",
              "    <div>\n",
              "<style scoped>\n",
              "    .dataframe tbody tr th:only-of-type {\n",
              "        vertical-align: middle;\n",
              "    }\n",
              "\n",
              "    .dataframe tbody tr th {\n",
              "        vertical-align: top;\n",
              "    }\n",
              "\n",
              "    .dataframe thead th {\n",
              "        text-align: right;\n",
              "    }\n",
              "</style>\n",
              "<table border=\"1\" class=\"dataframe\">\n",
              "  <thead>\n",
              "    <tr style=\"text-align: right;\">\n",
              "      <th></th>\n",
              "      <th>movieId</th>\n",
              "      <th>title</th>\n",
              "      <th>genres</th>\n",
              "    </tr>\n",
              "  </thead>\n",
              "  <tbody>\n",
              "    <tr>\n",
              "      <th>0</th>\n",
              "      <td>1</td>\n",
              "      <td>Toy Story (1995)</td>\n",
              "      <td>[Adventure, Animation, Children, Comedy, Fantasy]</td>\n",
              "    </tr>\n",
              "    <tr>\n",
              "      <th>1</th>\n",
              "      <td>2</td>\n",
              "      <td>Jumanji (1995)</td>\n",
              "      <td>[Adventure, Children, Fantasy]</td>\n",
              "    </tr>\n",
              "    <tr>\n",
              "      <th>2</th>\n",
              "      <td>3</td>\n",
              "      <td>Grumpier Old Men (1995)</td>\n",
              "      <td>[Comedy, Romance]</td>\n",
              "    </tr>\n",
              "    <tr>\n",
              "      <th>3</th>\n",
              "      <td>4</td>\n",
              "      <td>Waiting to Exhale (1995)</td>\n",
              "      <td>[Comedy, Drama, Romance]</td>\n",
              "    </tr>\n",
              "    <tr>\n",
              "      <th>4</th>\n",
              "      <td>5</td>\n",
              "      <td>Father of the Bride Part II (1995)</td>\n",
              "      <td>[Comedy]</td>\n",
              "    </tr>\n",
              "  </tbody>\n",
              "</table>\n",
              "</div>\n",
              "    <div class=\"colab-df-buttons\">\n",
              "\n",
              "  <div class=\"colab-df-container\">\n",
              "    <button class=\"colab-df-convert\" onclick=\"convertToInteractive('df-98dc6070-7c5c-4567-8cff-b1466492b2c1')\"\n",
              "            title=\"Convert this dataframe to an interactive table.\"\n",
              "            style=\"display:none;\">\n",
              "\n",
              "  <svg xmlns=\"http://www.w3.org/2000/svg\" height=\"24px\" viewBox=\"0 -960 960 960\">\n",
              "    <path d=\"M120-120v-720h720v720H120Zm60-500h600v-160H180v160Zm220 220h160v-160H400v160Zm0 220h160v-160H400v160ZM180-400h160v-160H180v160Zm440 0h160v-160H620v160ZM180-180h160v-160H180v160Zm440 0h160v-160H620v160Z\"/>\n",
              "  </svg>\n",
              "    </button>\n",
              "\n",
              "  <style>\n",
              "    .colab-df-container {\n",
              "      display:flex;\n",
              "      gap: 12px;\n",
              "    }\n",
              "\n",
              "    .colab-df-convert {\n",
              "      background-color: #E8F0FE;\n",
              "      border: none;\n",
              "      border-radius: 50%;\n",
              "      cursor: pointer;\n",
              "      display: none;\n",
              "      fill: #1967D2;\n",
              "      height: 32px;\n",
              "      padding: 0 0 0 0;\n",
              "      width: 32px;\n",
              "    }\n",
              "\n",
              "    .colab-df-convert:hover {\n",
              "      background-color: #E2EBFA;\n",
              "      box-shadow: 0px 1px 2px rgba(60, 64, 67, 0.3), 0px 1px 3px 1px rgba(60, 64, 67, 0.15);\n",
              "      fill: #174EA6;\n",
              "    }\n",
              "\n",
              "    .colab-df-buttons div {\n",
              "      margin-bottom: 4px;\n",
              "    }\n",
              "\n",
              "    [theme=dark] .colab-df-convert {\n",
              "      background-color: #3B4455;\n",
              "      fill: #D2E3FC;\n",
              "    }\n",
              "\n",
              "    [theme=dark] .colab-df-convert:hover {\n",
              "      background-color: #434B5C;\n",
              "      box-shadow: 0px 1px 3px 1px rgba(0, 0, 0, 0.15);\n",
              "      filter: drop-shadow(0px 1px 2px rgba(0, 0, 0, 0.3));\n",
              "      fill: #FFFFFF;\n",
              "    }\n",
              "  </style>\n",
              "\n",
              "    <script>\n",
              "      const buttonEl =\n",
              "        document.querySelector('#df-98dc6070-7c5c-4567-8cff-b1466492b2c1 button.colab-df-convert');\n",
              "      buttonEl.style.display =\n",
              "        google.colab.kernel.accessAllowed ? 'block' : 'none';\n",
              "\n",
              "      async function convertToInteractive(key) {\n",
              "        const element = document.querySelector('#df-98dc6070-7c5c-4567-8cff-b1466492b2c1');\n",
              "        const dataTable =\n",
              "          await google.colab.kernel.invokeFunction('convertToInteractive',\n",
              "                                                    [key], {});\n",
              "        if (!dataTable) return;\n",
              "\n",
              "        const docLinkHtml = 'Like what you see? Visit the ' +\n",
              "          '<a target=\"_blank\" href=https://colab.research.google.com/notebooks/data_table.ipynb>data table notebook</a>'\n",
              "          + ' to learn more about interactive tables.';\n",
              "        element.innerHTML = '';\n",
              "        dataTable['output_type'] = 'display_data';\n",
              "        await google.colab.output.renderOutput(dataTable, element);\n",
              "        const docLink = document.createElement('div');\n",
              "        docLink.innerHTML = docLinkHtml;\n",
              "        element.appendChild(docLink);\n",
              "      }\n",
              "    </script>\n",
              "  </div>\n",
              "\n",
              "\n",
              "<div id=\"df-2423617f-ddba-4f27-855b-7c4a5165ede9\">\n",
              "  <button class=\"colab-df-quickchart\" onclick=\"quickchart('df-2423617f-ddba-4f27-855b-7c4a5165ede9')\"\n",
              "            title=\"Suggest charts\"\n",
              "            style=\"display:none;\">\n",
              "\n",
              "<svg xmlns=\"http://www.w3.org/2000/svg\" height=\"24px\"viewBox=\"0 0 24 24\"\n",
              "     width=\"24px\">\n",
              "    <g>\n",
              "        <path d=\"M19 3H5c-1.1 0-2 .9-2 2v14c0 1.1.9 2 2 2h14c1.1 0 2-.9 2-2V5c0-1.1-.9-2-2-2zM9 17H7v-7h2v7zm4 0h-2V7h2v10zm4 0h-2v-4h2v4z\"/>\n",
              "    </g>\n",
              "</svg>\n",
              "  </button>\n",
              "\n",
              "<style>\n",
              "  .colab-df-quickchart {\n",
              "      --bg-color: #E8F0FE;\n",
              "      --fill-color: #1967D2;\n",
              "      --hover-bg-color: #E2EBFA;\n",
              "      --hover-fill-color: #174EA6;\n",
              "      --disabled-fill-color: #AAA;\n",
              "      --disabled-bg-color: #DDD;\n",
              "  }\n",
              "\n",
              "  [theme=dark] .colab-df-quickchart {\n",
              "      --bg-color: #3B4455;\n",
              "      --fill-color: #D2E3FC;\n",
              "      --hover-bg-color: #434B5C;\n",
              "      --hover-fill-color: #FFFFFF;\n",
              "      --disabled-bg-color: #3B4455;\n",
              "      --disabled-fill-color: #666;\n",
              "  }\n",
              "\n",
              "  .colab-df-quickchart {\n",
              "    background-color: var(--bg-color);\n",
              "    border: none;\n",
              "    border-radius: 50%;\n",
              "    cursor: pointer;\n",
              "    display: none;\n",
              "    fill: var(--fill-color);\n",
              "    height: 32px;\n",
              "    padding: 0;\n",
              "    width: 32px;\n",
              "  }\n",
              "\n",
              "  .colab-df-quickchart:hover {\n",
              "    background-color: var(--hover-bg-color);\n",
              "    box-shadow: 0 1px 2px rgba(60, 64, 67, 0.3), 0 1px 3px 1px rgba(60, 64, 67, 0.15);\n",
              "    fill: var(--button-hover-fill-color);\n",
              "  }\n",
              "\n",
              "  .colab-df-quickchart-complete:disabled,\n",
              "  .colab-df-quickchart-complete:disabled:hover {\n",
              "    background-color: var(--disabled-bg-color);\n",
              "    fill: var(--disabled-fill-color);\n",
              "    box-shadow: none;\n",
              "  }\n",
              "\n",
              "  .colab-df-spinner {\n",
              "    border: 2px solid var(--fill-color);\n",
              "    border-color: transparent;\n",
              "    border-bottom-color: var(--fill-color);\n",
              "    animation:\n",
              "      spin 1s steps(1) infinite;\n",
              "  }\n",
              "\n",
              "  @keyframes spin {\n",
              "    0% {\n",
              "      border-color: transparent;\n",
              "      border-bottom-color: var(--fill-color);\n",
              "      border-left-color: var(--fill-color);\n",
              "    }\n",
              "    20% {\n",
              "      border-color: transparent;\n",
              "      border-left-color: var(--fill-color);\n",
              "      border-top-color: var(--fill-color);\n",
              "    }\n",
              "    30% {\n",
              "      border-color: transparent;\n",
              "      border-left-color: var(--fill-color);\n",
              "      border-top-color: var(--fill-color);\n",
              "      border-right-color: var(--fill-color);\n",
              "    }\n",
              "    40% {\n",
              "      border-color: transparent;\n",
              "      border-right-color: var(--fill-color);\n",
              "      border-top-color: var(--fill-color);\n",
              "    }\n",
              "    60% {\n",
              "      border-color: transparent;\n",
              "      border-right-color: var(--fill-color);\n",
              "    }\n",
              "    80% {\n",
              "      border-color: transparent;\n",
              "      border-right-color: var(--fill-color);\n",
              "      border-bottom-color: var(--fill-color);\n",
              "    }\n",
              "    90% {\n",
              "      border-color: transparent;\n",
              "      border-bottom-color: var(--fill-color);\n",
              "    }\n",
              "  }\n",
              "</style>\n",
              "\n",
              "  <script>\n",
              "    async function quickchart(key) {\n",
              "      const quickchartButtonEl =\n",
              "        document.querySelector('#' + key + ' button');\n",
              "      quickchartButtonEl.disabled = true;  // To prevent multiple clicks.\n",
              "      quickchartButtonEl.classList.add('colab-df-spinner');\n",
              "      try {\n",
              "        const charts = await google.colab.kernel.invokeFunction(\n",
              "            'suggestCharts', [key], {});\n",
              "      } catch (error) {\n",
              "        console.error('Error during call to suggestCharts:', error);\n",
              "      }\n",
              "      quickchartButtonEl.classList.remove('colab-df-spinner');\n",
              "      quickchartButtonEl.classList.add('colab-df-quickchart-complete');\n",
              "    }\n",
              "    (() => {\n",
              "      let quickchartButtonEl =\n",
              "        document.querySelector('#df-2423617f-ddba-4f27-855b-7c4a5165ede9 button');\n",
              "      quickchartButtonEl.style.display =\n",
              "        google.colab.kernel.accessAllowed ? 'block' : 'none';\n",
              "    })();\n",
              "  </script>\n",
              "</div>\n",
              "\n",
              "    </div>\n",
              "  </div>\n"
            ],
            "application/vnd.google.colaboratory.intrinsic+json": {
              "type": "dataframe",
              "variable_name": "movies",
              "summary": "{\n  \"name\": \"movies\",\n  \"rows\": 9742,\n  \"fields\": [\n    {\n      \"column\": \"movieId\",\n      \"properties\": {\n        \"dtype\": \"number\",\n        \"std\": 52160,\n        \"min\": 1,\n        \"max\": 193609,\n        \"num_unique_values\": 9742,\n        \"samples\": [\n          45635,\n          1373,\n          7325\n        ],\n        \"semantic_type\": \"\",\n        \"description\": \"\"\n      }\n    },\n    {\n      \"column\": \"title\",\n      \"properties\": {\n        \"dtype\": \"string\",\n        \"num_unique_values\": 9737,\n        \"samples\": [\n          \"Teenage Mutant Ninja Turtles (2014)\",\n          \"America's Sweethearts (2001)\",\n          \"Cast Away (2000)\"\n        ],\n        \"semantic_type\": \"\",\n        \"description\": \"\"\n      }\n    },\n    {\n      \"column\": \"genres\",\n      \"properties\": {\n        \"dtype\": \"object\",\n        \"semantic_type\": \"\",\n        \"description\": \"\"\n      }\n    }\n  ]\n}"
            }
          },
          "metadata": {},
          "execution_count": 21
        }
      ]
    },
    {
      "cell_type": "markdown",
      "source": [
        "Per sapere quanti genere di film sono presenti nel dataset è possibile usare la funzionde *Counter* di Python."
      ],
      "metadata": {
        "id": "eMUz0O_6vhm8"
      }
    },
    {
      "cell_type": "code",
      "source": [
        "from collections import Counter\n",
        "tot_genre = Counter([g for genres in movies['genres'] for g in genres])\n",
        "\n",
        "print(f\"Ci sono in totale {len(tot_genre)} genere di film.\")\n",
        "\n",
        "tot_genre"
      ],
      "metadata": {
        "colab": {
          "base_uri": "https://localhost:8080/"
        },
        "id": "UoygEQMfv9yx",
        "outputId": "df7f5031-dc15-4766-b683-c40475c08d53"
      },
      "execution_count": null,
      "outputs": [
        {
          "output_type": "stream",
          "name": "stdout",
          "text": [
            "Ci sono in totale 20 genere di film.\n"
          ]
        },
        {
          "output_type": "execute_result",
          "data": {
            "text/plain": [
              "Counter({'Adventure': 1263,\n",
              "         'Animation': 611,\n",
              "         'Children': 664,\n",
              "         'Comedy': 3756,\n",
              "         'Fantasy': 779,\n",
              "         'Romance': 1596,\n",
              "         'Drama': 4361,\n",
              "         'Action': 1828,\n",
              "         'Crime': 1199,\n",
              "         'Thriller': 1894,\n",
              "         'Horror': 978,\n",
              "         'Mystery': 573,\n",
              "         'Sci-Fi': 980,\n",
              "         'War': 382,\n",
              "         'Musical': 334,\n",
              "         'Documentary': 440,\n",
              "         'IMAX': 158,\n",
              "         'Western': 167,\n",
              "         'Film-Noir': 87,\n",
              "         '(no genres listed)': 34})"
            ]
          },
          "metadata": {},
          "execution_count": 22
        }
      ]
    },
    {
      "cell_type": "code",
      "source": [
        "print(\"I 5 generi più comuni sono: \\n\", tot_genre.most_common(5))"
      ],
      "metadata": {
        "colab": {
          "base_uri": "https://localhost:8080/"
        },
        "id": "ludfKX69w6E0",
        "outputId": "3195ce60-61b5-4eec-ca5f-4225bdac628a"
      },
      "execution_count": null,
      "outputs": [
        {
          "output_type": "stream",
          "name": "stdout",
          "text": [
            "I 5 generi più comuni sono: \n",
            " [('Drama', 4361), ('Comedy', 3756), ('Thriller', 1894), ('Action', 1828), ('Romance', 1596)]\n"
          ]
        }
      ]
    },
    {
      "cell_type": "markdown",
      "source": [
        "Per visualizzarli con un barplot:"
      ],
      "metadata": {
        "id": "ef1XMHCYxF2y"
      }
    },
    {
      "cell_type": "code",
      "source": [
        "genre_frequency_df = pd.DataFrame([tot_genre]).T.reset_index()\n",
        "genre_frequency_df.columns = ['genre', 'count']\n",
        "\n",
        "sns.barplot(x='genre', y='count', data=genre_frequency_df.sort_values(by='count', ascending=False))\n",
        "plt.xticks(rotation=90) # per migliorare la lettura dei generi ruoto di 90 gradi\n",
        "plt.show()"
      ],
      "metadata": {
        "colab": {
          "base_uri": "https://localhost:8080/",
          "height": 557
        },
        "id": "RhG6lJeOxJd4",
        "outputId": "e848dbc3-9e9b-4610-b635-eaa56227532e"
      },
      "execution_count": null,
      "outputs": [
        {
          "output_type": "display_data",
          "data": {
            "text/plain": [
              "<Figure size 640x480 with 1 Axes>"
            ],
            "image/png": "[encoded data removed]"
          },
          "metadata": {}
        }
      ]
    },
    {
      "cell_type": "markdown",
      "source": [
        "## 4: Pre-processing dei Dati\n",
        "Per generare le raccomandazioni uso la tecnica del colaborative filtering. Questa tecnica si basa sul fatto che ad utenti simili possano piacere le stesse cose.\n",
        "\n",
        "\\\\\n",
        "\n",
        "Per prima cosa bisogna trasformare i dati in una matrice *user-item* (conosciuta come **utility** matrix). Per questo dataset le righe rappresenteranno gli utenti e le colonne i vari film.  "
      ],
      "metadata": {
        "id": "1aZnq7ywzge2"
      }
    },
    {
      "cell_type": "markdown",
      "source": [
        "\n",
        "![Screenshot 2025-03-11 114233.png](data:image/png;base64,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)"
      ],
      "metadata": {
        "id": "4LM6Mt6oytGf"
      }
    },
    {
      "cell_type": "code",
      "source": [
        "from scipy.sparse import csr_matrix\n",
        "\n",
        "def create_X(df):\n",
        "    \"\"\"\n",
        "    Genera una matrice sparsa dal ratings dataframe.\n",
        "\n",
        "    Args:\n",
        "        df: pandas dataframe contenente 3 colonne (userId, movieId, rating)\n",
        "\n",
        "    Returns:\n",
        "        X: sparse matrix\n",
        "        user_mapper: dict that maps user id's to user indices\n",
        "        user_inv_mapper: dict that maps user indices to user id's\n",
        "        movie_mapper: dict that maps movie id's to movie indices\n",
        "        movie_inv_mapper: dict that maps movie indices to movie id's\n",
        "    \"\"\"\n",
        "    M = df['userId'].nunique()\n",
        "    N = df['movieId'].nunique()\n",
        "\n",
        "    user_mapper = dict(zip(np.unique(df[\"userId\"]), list(range(M))))\n",
        "    movie_mapper = dict(zip(np.unique(df[\"movieId\"]), list(range(N))))\n",
        "\n",
        "    user_inv_mapper = dict(zip(list(range(M)), np.unique(df[\"userId\"])))\n",
        "    movie_inv_mapper = dict(zip(list(range(N)), np.unique(df[\"movieId\"])))\n",
        "\n",
        "    user_index = [user_mapper[i] for i in df['userId']]\n",
        "    item_index = [movie_mapper[i] for i in df['movieId']]\n",
        "\n",
        "    X = csr_matrix((df[\"rating\"], (user_index,item_index)), shape=(M,N))\n",
        "\n",
        "    return X, user_mapper, movie_mapper, user_inv_mapper, movie_inv_mapper\n",
        "\n",
        "X, user_mapper, movie_mapper, user_inv_mapper, movie_inv_mapper = create_X(ratings)"
      ],
      "metadata": {
        "id": "tYnMK9MlzRlw"
      },
      "execution_count": null,
      "outputs": []
    },
    {
      "cell_type": "markdown",
      "source": [
        "La **X** (matrice user-item) è una [scipy.sparse.crs_matrix](https://docs.scipy.org/doc/scipy-0.14.0/reference/generated/scipy.sparse.csr_matrix.html) che memorizza i dati in modo sparso."
      ],
      "metadata": {
        "id": "MHVUBzpp1zKm"
      }
    },
    {
      "cell_type": "code",
      "source": [
        "X.shape"
      ],
      "metadata": {
        "colab": {
          "base_uri": "https://localhost:8080/"
        },
        "id": "XPI7LyOMzOVL",
        "outputId": "3d951401-f52b-4f09-95ef-cbbcbece0447"
      },
      "execution_count": null,
      "outputs": [
        {
          "output_type": "execute_result",
          "data": {
            "text/plain": [
              "(610, 9724)"
            ]
          },
          "metadata": {},
          "execution_count": 26
        }
      ]
    },
    {
      "cell_type": "markdown",
      "source": [
        "La matrice **X**, quindi, contiene 610 utenti e 9724 film."
      ],
      "metadata": {
        "id": "VdDmIzK_27LI"
      }
    },
    {
      "cell_type": "markdown",
      "source": [
        "### Valutare la sparsità\n",
        "Possiamo calcolarla come il numero di elementi memorizzati fratto il numero totale di elementi.\n",
        "\n",
        "\\\\\n",
        "\n",
        "Il numero di elementi memorizzati nella matrice ([nnz](https://docs.scipy.org/doc/scipy/reference/generated/scipy.sparse.csr_matrix.nnz.html)) è uguale al numero di ratings nel dataset."
      ],
      "metadata": {
        "id": "bIlqnmDv3YkY"
      }
    },
    {
      "cell_type": "code",
      "source": [
        "n_total = X.shape[0]*X.shape[1]\n",
        "n_ratings = X.nnz # conta i valori memorizzati nella matrice sparsa, le restanti celle sono vuote\n",
        "sparsity = n_ratings/n_total\n",
        "print(f\"Matrix sparsity: {round(sparsity*100,2)}%\")"
      ],
      "metadata": {
        "colab": {
          "base_uri": "https://localhost:8080/"
        },
        "id": "0I9ySdD63EEp",
        "outputId": "50b7cadb-90be-47ea-c67e-566f6101a8f6"
      },
      "execution_count": null,
      "outputs": [
        {
          "output_type": "stream",
          "name": "stdout",
          "text": [
            "Matrix sparsity: 1.7%\n"
          ]
        }
      ]
    },
    {
      "cell_type": "markdown",
      "source": [
        "Il **cold start problem** si ha quando ci suono nuovi utenti e film nella matrice e non abbiamo nessuna recensione. Nel MovieLens dataset tutti gli utenti hanno almeno una votazione, ma è utile verificare quali utenti e film hanno meno interazioni."
      ],
      "metadata": {
        "id": "w7kwVK5X5FBf"
      }
    },
    {
      "cell_type": "code",
      "source": [
        "n_ratings_per_user = X.getnnz(axis=1)\n",
        "len(n_ratings_per_user)"
      ],
      "metadata": {
        "colab": {
          "base_uri": "https://localhost:8080/"
        },
        "id": "RIkLpZ6o5e8l",
        "outputId": "0ca4e602-c6c2-48ba-f23a-bcb598f341d9"
      },
      "execution_count": null,
      "outputs": [
        {
          "output_type": "execute_result",
          "data": {
            "text/plain": [
              "610"
            ]
          },
          "metadata": {},
          "execution_count": 28
        }
      ]
    },
    {
      "cell_type": "code",
      "source": [
        "print(f\"Most active user rated {n_ratings_per_user.max()} movies.\")\n",
        "print(f\"Least active user rated {n_ratings_per_user.min()} movies.\")"
      ],
      "metadata": {
        "colab": {
          "base_uri": "https://localhost:8080/"
        },
        "id": "oliu-uhS5iUN",
        "outputId": "a21d2ae6-23c8-4345-e899-0f4d467e56e4"
      },
      "execution_count": null,
      "outputs": [
        {
          "output_type": "stream",
          "name": "stdout",
          "text": [
            "Most active user rated 2698 movies.\n",
            "Least active user rated 20 movies.\n"
          ]
        }
      ]
    },
    {
      "cell_type": "code",
      "source": [
        "n_ratings_per_movie = X.getnnz(axis=0)\n",
        "len(n_ratings_per_movie)"
      ],
      "metadata": {
        "colab": {
          "base_uri": "https://localhost:8080/"
        },
        "id": "YSt9Z2Lj5lPZ",
        "outputId": "a5432090-b930-4cb6-e723-56ebe9e972a3"
      },
      "execution_count": null,
      "outputs": [
        {
          "output_type": "execute_result",
          "data": {
            "text/plain": [
              "9724"
            ]
          },
          "metadata": {},
          "execution_count": 30
        }
      ]
    },
    {
      "cell_type": "code",
      "source": [
        "print(f\"Most rated movie has {n_ratings_per_movie.max()} ratings.\")\n",
        "print(f\"Least rated movie has {n_ratings_per_movie.min()} ratings.\")"
      ],
      "metadata": {
        "colab": {
          "base_uri": "https://localhost:8080/"
        },
        "id": "AKhwzAE-5nrX",
        "outputId": "11f11d39-bfbc-41e6-cd9e-9cd9e8a7334e"
      },
      "execution_count": null,
      "outputs": [
        {
          "output_type": "stream",
          "name": "stdout",
          "text": [
            "Most rated movie has 329 ratings.\n",
            "Least rated movie has 1 ratings.\n"
          ]
        }
      ]
    },
    {
      "cell_type": "markdown",
      "source": [
        "## 5: Raccomandazioni item-item usando il KNN (K-Nearest Neighbors)"
      ],
      "metadata": {
        "id": "lf_7D2XF6CV7"
      }
    },
    {
      "cell_type": "code",
      "source": [
        "from sklearn.neighbors import NearestNeighbors\n",
        "\n",
        "def find_similar_movies(movie_id, X, movie_mapper, movie_inv_mapper, k, metric='cosine'):\n",
        "    \"\"\"\n",
        "    Finds k-nearest neighbours for a given movie id.\n",
        "\n",
        "    Args:\n",
        "        movie_id: id of the movie of interest\n",
        "        X: user-item utility matrix\n",
        "        k: number of similar movies to retrieve\n",
        "        metric: distance metric for kNN calculations\n",
        "\n",
        "    Output: returns list of k similar movie ID's\n",
        "    \"\"\"\n",
        "    X = X.T\n",
        "    neighbour_ids = []\n",
        "\n",
        "    movie_ind = movie_mapper[movie_id]\n",
        "    movie_vec = X[movie_ind]\n",
        "    if isinstance(movie_vec, (np.ndarray)):\n",
        "        movie_vec = movie_vec.reshape(1,-1)\n",
        "    # use k+1 since kNN output includes the movieId of interest\n",
        "    kNN = NearestNeighbors(n_neighbors=k+1, algorithm=\"brute\", metric=metric)\n",
        "    kNN.fit(X)\n",
        "    neighbour = kNN.kneighbors(movie_vec, return_distance=False)\n",
        "    for i in range(0,k):\n",
        "        n = neighbour.item(i)\n",
        "        neighbour_ids.append(movie_inv_mapper[n])\n",
        "    neighbour_ids.pop(0)\n",
        "    return neighbour_ids"
      ],
      "metadata": {
        "id": "4vraY5zn6Lc7"
      },
      "execution_count": null,
      "outputs": []
    },
    {
      "cell_type": "markdown",
      "source": [
        "`find_similar_movies()` prende un `MovieId` e la matrice `X` in input, e restituisce un elenco di *k* film simili al `MovieId` di interesse in output.\n",
        "\n",
        "\n",
        "\n",
        "\n"
      ],
      "metadata": {
        "id": "LVBql2k06TU5"
      }
    },
    {
      "cell_type": "code",
      "source": [
        "similar_movies = find_similar_movies(1, X, movie_mapper, movie_inv_mapper, k=10)\n",
        "similar_movies"
      ],
      "metadata": {
        "colab": {
          "base_uri": "https://localhost:8080/"
        },
        "id": "FjTj47TI7IWP",
        "outputId": "6539804a-5c2f-46bc-e4bb-83811b40eea8"
      },
      "execution_count": null,
      "outputs": [
        {
          "output_type": "execute_result",
          "data": {
            "text/plain": [
              "[3114, 480, 780, 260, 356, 364, 1210, 648, 1265]"
            ]
          },
          "metadata": {},
          "execution_count": 33
        }
      ]
    },
    {
      "cell_type": "markdown",
      "source": [
        "Converto `MovieId` in `title` creando un dizionario.\n",
        "\n"
      ],
      "metadata": {
        "id": "Niq7pMVi7TM6"
      }
    },
    {
      "cell_type": "code",
      "source": [
        "movie_titles = dict(zip(movies['movieId'], movies['title']))\n",
        "\n",
        "movie_id = 1\n",
        "\n",
        "similar_movies = find_similar_movies(movie_id, X, movie_mapper, movie_inv_mapper, metric='cosine', k=10)\n",
        "movie_title = movie_titles[movie_id]\n",
        "\n",
        "print(f\"Because you watched {movie_title}:\")\n",
        "for i in similar_movies:\n",
        "    print(movie_titles[i])"
      ],
      "metadata": {
        "colab": {
          "base_uri": "https://localhost:8080/"
        },
        "id": "oKhD9MnX7jMD",
        "outputId": "1cfd91ce-a6cc-4fe6-c468-187b9d5a57dc"
      },
      "execution_count": null,
      "outputs": [
        {
          "output_type": "stream",
          "name": "stdout",
          "text": [
            "Because you watched Toy Story (1995):\n",
            "Toy Story 2 (1999)\n",
            "Jurassic Park (1993)\n",
            "Independence Day (a.k.a. ID4) (1996)\n",
            "Star Wars: Episode IV - A New Hope (1977)\n",
            "Forrest Gump (1994)\n",
            "Lion King, The (1994)\n",
            "Star Wars: Episode VI - Return of the Jedi (1983)\n",
            "Mission: Impossible (1996)\n",
            "Groundhog Day (1993)\n"
          ]
        }
      ]
    },
    {
      "cell_type": "markdown",
      "source": [
        "In output notiamo 9 film simili a *Toy Story*. Queste raccomandazioni si basano solamente sugli user-item ratings.\n",
        "\n",
        "\\\\\n",
        "\n",
        "Si potrebbe usare una metrica differente da *'cosine'*, ad esempio *'euclidean'* o altre presnti [qui](https://docs.scipy.org/doc/scipy/reference/spatial.distance.html)."
      ],
      "metadata": {
        "id": "rgL8f5GU7pe1"
      }
    },
    {
      "cell_type": "code",
      "source": [
        "#movie_id = 1\n",
        "\n",
        "#similar_movies = find_similar_movies(movie_id, X, movie_mapper, movie_inv_mapper, metric='euclidean', k=10)\n",
        "#movie_title = movie_titles[movie_id]\n",
        "\n",
        "#print(f\"Because you watched {movie_title}:\")\n",
        "#for i in similar_movies:\n",
        "#    print(movie_titles[i])"
      ],
      "metadata": {
        "id": "AdFkTinT9Eic"
      },
      "execution_count": null,
      "outputs": []
    },
    {
      "cell_type": "markdown",
      "source": [
        "## 6: Cold-Start Problem\n",
        "\n",
        "Per gestire questo problema possiamo usare il content-based filtering.\n",
        "\n",
        "\\\\\n",
        "\n",
        "Per prima cosa bisogna convertire la colonna **genres** in features binarie. Ogni genere avrà la propria colonna nel dataframe, formata da 0 o 1."
      ],
      "metadata": {
        "id": "4YZj-vj49NiV"
      }
    },
    {
      "cell_type": "code",
      "source": [
        "n_movies = movies['movieId'].nunique()\n",
        "print(f\"There are {n_movies} unique movies in our movies dataset.\")"
      ],
      "metadata": {
        "colab": {
          "base_uri": "https://localhost:8080/"
        },
        "id": "aLyHaagW94Zg",
        "outputId": "5bcb2cdd-e66e-4333-84e6-4bea967015bf"
      },
      "execution_count": null,
      "outputs": [
        {
          "output_type": "stream",
          "name": "stdout",
          "text": [
            "There are 9742 unique movies in our movies dataset.\n"
          ]
        }
      ]
    },
    {
      "cell_type": "code",
      "source": [
        "genres = set(g for G in movies['genres'] for g in G)\n",
        "\n",
        "for g in genres:\n",
        "    movies[g] = movies.genres.transform(lambda x: int(g in x))\n",
        "\n",
        "movie_genres = movies.drop(columns=['movieId', 'title','genres'])"
      ],
      "metadata": {
        "id": "I37G55eU97ey"
      },
      "execution_count": null,
      "outputs": []
    },
    {
      "cell_type": "code",
      "source": [
        "movie_genres.head()"
      ],
      "metadata": {
        "colab": {
          "base_uri": "https://localhost:8080/",
          "height": 261
        },
        "id": "uHwvAnR699-Z",
        "outputId": "588e56c6-35d5-4691-c676-a242ab10df36"
      },
      "execution_count": null,
      "outputs": [
        {
          "output_type": "execute_result",
          "data": {
            "text/plain": [
              "   Animation  Western  Film-Noir  Romance  Crime  (no genres listed)  \\\n",
              "0          1        0          0        0      0                   0   \n",
              "1          0        0          0        0      0                   0   \n",
              "2          0        0          0        1      0                   0   \n",
              "3          0        0          0        1      0                   0   \n",
              "4          0        0          0        0      0                   0   \n",
              "\n",
              "   Children  Adventure  Action  Comedy  Fantasy  Sci-Fi  Thriller  \\\n",
              "0         1          1       0       1        1       0         0   \n",
              "1         1          1       0       0        1       0         0   \n",
              "2         0          0       0       1        0       0         0   \n",
              "3         0          0       0       1        0       0         0   \n",
              "4         0          0       0       1        0       0         0   \n",
              "\n",
              "   Documentary  War  Musical  Drama  IMAX  Horror  Mystery  \n",
              "0            0    0        0      0     0       0        0  \n",
              "1            0    0        0      0     0       0        0  \n",
              "2            0    0        0      0     0       0        0  \n",
              "3            0    0        0      1     0       0        0  \n",
              "4            0    0        0      0     0       0        0  "
            ],
            "text/html": [
              "\n",
              "  <div id=\"df-78fa509a-6905-418c-899b-bbd59080f763\" class=\"colab-df-container\">\n",
              "    <div>\n",
              "<style scoped>\n",
              "    .dataframe tbody tr th:only-of-type {\n",
              "        vertical-align: middle;\n",
              "    }\n",
              "\n",
              "    .dataframe tbody tr th {\n",
              "        vertical-align: top;\n",
              "    }\n",
              "\n",
              "    .dataframe thead th {\n",
              "        text-align: right;\n",
              "    }\n",
              "</style>\n",
              "<table border=\"1\" class=\"dataframe\">\n",
              "  <thead>\n",
              "    <tr style=\"text-align: right;\">\n",
              "      <th></th>\n",
              "      <th>Animation</th>\n",
              "      <th>Western</th>\n",
              "      <th>Film-Noir</th>\n",
              "      <th>Romance</th>\n",
              "      <th>Crime</th>\n",
              "      <th>(no genres listed)</th>\n",
              "      <th>Children</th>\n",
              "      <th>Adventure</th>\n",
              "      <th>Action</th>\n",
              "      <th>Comedy</th>\n",
              "      <th>Fantasy</th>\n",
              "      <th>Sci-Fi</th>\n",
              "      <th>Thriller</th>\n",
              "      <th>Documentary</th>\n",
              "      <th>War</th>\n",
              "      <th>Musical</th>\n",
              "      <th>Drama</th>\n",
              "      <th>IMAX</th>\n",
              "      <th>Horror</th>\n",
              "      <th>Mystery</th>\n",
              "    </tr>\n",
              "  </thead>\n",
              "  <tbody>\n",
              "    <tr>\n",
              "      <th>0</th>\n",
              "      <td>1</td>\n",
              "      <td>0</td>\n",
              "      <td>0</td>\n",
              "      <td>0</td>\n",
              "      <td>0</td>\n",
              "      <td>0</td>\n",
              "      <td>1</td>\n",
              "      <td>1</td>\n",
              "      <td>0</td>\n",
              "      <td>1</td>\n",
              "      <td>1</td>\n",
              "      <td>0</td>\n",
              "      <td>0</td>\n",
              "      <td>0</td>\n",
              "      <td>0</td>\n",
              "      <td>0</td>\n",
              "      <td>0</td>\n",
              "      <td>0</td>\n",
              "      <td>0</td>\n",
              "      <td>0</td>\n",
              "    </tr>\n",
              "    <tr>\n",
              "      <th>1</th>\n",
              "      <td>0</td>\n",
              "      <td>0</td>\n",
              "      <td>0</td>\n",
              "      <td>0</td>\n",
              "      <td>0</td>\n",
              "      <td>0</td>\n",
              "      <td>1</td>\n",
              "      <td>1</td>\n",
              "      <td>0</td>\n",
              "      <td>0</td>\n",
              "      <td>1</td>\n",
              "      <td>0</td>\n",
              "      <td>0</td>\n",
              "      <td>0</td>\n",
              "      <td>0</td>\n",
              "      <td>0</td>\n",
              "      <td>0</td>\n",
              "      <td>0</td>\n",
              "      <td>0</td>\n",
              "      <td>0</td>\n",
              "    </tr>\n",
              "    <tr>\n",
              "      <th>2</th>\n",
              "      <td>0</td>\n",
              "      <td>0</td>\n",
              "      <td>0</td>\n",
              "      <td>1</td>\n",
              "      <td>0</td>\n",
              "      <td>0</td>\n",
              "      <td>0</td>\n",
              "      <td>0</td>\n",
              "      <td>0</td>\n",
              "      <td>1</td>\n",
              "      <td>0</td>\n",
              "      <td>0</td>\n",
              "      <td>0</td>\n",
              "      <td>0</td>\n",
              "      <td>0</td>\n",
              "      <td>0</td>\n",
              "      <td>0</td>\n",
              "      <td>0</td>\n",
              "      <td>0</td>\n",
              "      <td>0</td>\n",
              "    </tr>\n",
              "    <tr>\n",
              "      <th>3</th>\n",
              "      <td>0</td>\n",
              "      <td>0</td>\n",
              "      <td>0</td>\n",
              "      <td>1</td>\n",
              "      <td>0</td>\n",
              "      <td>0</td>\n",
              "      <td>0</td>\n",
              "      <td>0</td>\n",
              "      <td>0</td>\n",
              "      <td>1</td>\n",
              "      <td>0</td>\n",
              "      <td>0</td>\n",
              "      <td>0</td>\n",
              "      <td>0</td>\n",
              "      <td>0</td>\n",
              "      <td>0</td>\n",
              "      <td>1</td>\n",
              "      <td>0</td>\n",
              "      <td>0</td>\n",
              "      <td>0</td>\n",
              "    </tr>\n",
              "    <tr>\n",
              "      <th>4</th>\n",
              "      <td>0</td>\n",
              "      <td>0</td>\n",
              "      <td>0</td>\n",
              "      <td>0</td>\n",
              "      <td>0</td>\n",
              "      <td>0</td>\n",
              "      <td>0</td>\n",
              "      <td>0</td>\n",
              "      <td>0</td>\n",
              "      <td>1</td>\n",
              "      <td>0</td>\n",
              "      <td>0</td>\n",
              "      <td>0</td>\n",
              "      <td>0</td>\n",
              "      <td>0</td>\n",
              "      <td>0</td>\n",
              "      <td>0</td>\n",
              "      <td>0</td>\n",
              "      <td>0</td>\n",
              "      <td>0</td>\n",
              "    </tr>\n",
              "  </tbody>\n",
              "</table>\n",
              "</div>\n",
              "    <div class=\"colab-df-buttons\">\n",
              "\n",
              "  <div class=\"colab-df-container\">\n",
              "    <button class=\"colab-df-convert\" onclick=\"convertToInteractive('df-78fa509a-6905-418c-899b-bbd59080f763')\"\n",
              "            title=\"Convert this dataframe to an interactive table.\"\n",
              "            style=\"display:none;\">\n",
              "\n",
              "  <svg xmlns=\"http://www.w3.org/2000/svg\" height=\"24px\" viewBox=\"0 -960 960 960\">\n",
              "    <path d=\"M120-120v-720h720v720H120Zm60-500h600v-160H180v160Zm220 220h160v-160H400v160Zm0 220h160v-160H400v160ZM180-400h160v-160H180v160Zm440 0h160v-160H620v160ZM180-180h160v-160H180v160Zm440 0h160v-160H620v160Z\"/>\n",
              "  </svg>\n",
              "    </button>\n",
              "\n",
              "  <style>\n",
              "    .colab-df-container {\n",
              "      display:flex;\n",
              "      gap: 12px;\n",
              "    }\n",
              "\n",
              "    .colab-df-convert {\n",
              "      background-color: #E8F0FE;\n",
              "      border: none;\n",
              "      border-radius: 50%;\n",
              "      cursor: pointer;\n",
              "      display: none;\n",
              "      fill: #1967D2;\n",
              "      height: 32px;\n",
              "      padding: 0 0 0 0;\n",
              "      width: 32px;\n",
              "    }\n",
              "\n",
              "    .colab-df-convert:hover {\n",
              "      background-color: #E2EBFA;\n",
              "      box-shadow: 0px 1px 2px rgba(60, 64, 67, 0.3), 0px 1px 3px 1px rgba(60, 64, 67, 0.15);\n",
              "      fill: #174EA6;\n",
              "    }\n",
              "\n",
              "    .colab-df-buttons div {\n",
              "      margin-bottom: 4px;\n",
              "    }\n",
              "\n",
              "    [theme=dark] .colab-df-convert {\n",
              "      background-color: #3B4455;\n",
              "      fill: #D2E3FC;\n",
              "    }\n",
              "\n",
              "    [theme=dark] .colab-df-convert:hover {\n",
              "      background-color: #434B5C;\n",
              "      box-shadow: 0px 1px 3px 1px rgba(0, 0, 0, 0.15);\n",
              "      filter: drop-shadow(0px 1px 2px rgba(0, 0, 0, 0.3));\n",
              "      fill: #FFFFFF;\n",
              "    }\n",
              "  </style>\n",
              "\n",
              "    <script>\n",
              "      const buttonEl =\n",
              "        document.querySelector('#df-78fa509a-6905-418c-899b-bbd59080f763 button.colab-df-convert');\n",
              "      buttonEl.style.display =\n",
              "        google.colab.kernel.accessAllowed ? 'block' : 'none';\n",
              "\n",
              "      async function convertToInteractive(key) {\n",
              "        const element = document.querySelector('#df-78fa509a-6905-418c-899b-bbd59080f763');\n",
              "        const dataTable =\n",
              "          await google.colab.kernel.invokeFunction('convertToInteractive',\n",
              "                                                    [key], {});\n",
              "        if (!dataTable) return;\n",
              "\n",
              "        const docLinkHtml = 'Like what you see? Visit the ' +\n",
              "          '<a target=\"_blank\" href=https://colab.research.google.com/notebooks/data_table.ipynb>data table notebook</a>'\n",
              "          + ' to learn more about interactive tables.';\n",
              "        element.innerHTML = '';\n",
              "        dataTable['output_type'] = 'display_data';\n",
              "        await google.colab.output.renderOutput(dataTable, element);\n",
              "        const docLink = document.createElement('div');\n",
              "        docLink.innerHTML = docLinkHtml;\n",
              "        element.appendChild(docLink);\n",
              "      }\n",
              "    </script>\n",
              "  </div>\n",
              "\n",
              "\n",
              "<div id=\"df-b20b7df0-0b80-47c9-80e2-070d2bdfab33\">\n",
              "  <button class=\"colab-df-quickchart\" onclick=\"quickchart('df-b20b7df0-0b80-47c9-80e2-070d2bdfab33')\"\n",
              "            title=\"Suggest charts\"\n",
              "            style=\"display:none;\">\n",
              "\n",
              "<svg xmlns=\"http://www.w3.org/2000/svg\" height=\"24px\"viewBox=\"0 0 24 24\"\n",
              "     width=\"24px\">\n",
              "    <g>\n",
              "        <path d=\"M19 3H5c-1.1 0-2 .9-2 2v14c0 1.1.9 2 2 2h14c1.1 0 2-.9 2-2V5c0-1.1-.9-2-2-2zM9 17H7v-7h2v7zm4 0h-2V7h2v10zm4 0h-2v-4h2v4z\"/>\n",
              "    </g>\n",
              "</svg>\n",
              "  </button>\n",
              "\n",
              "<style>\n",
              "  .colab-df-quickchart {\n",
              "      --bg-color: #E8F0FE;\n",
              "      --fill-color: #1967D2;\n",
              "      --hover-bg-color: #E2EBFA;\n",
              "      --hover-fill-color: #174EA6;\n",
              "      --disabled-fill-color: #AAA;\n",
              "      --disabled-bg-color: #DDD;\n",
              "  }\n",
              "\n",
              "  [theme=dark] .colab-df-quickchart {\n",
              "      --bg-color: #3B4455;\n",
              "      --fill-color: #D2E3FC;\n",
              "      --hover-bg-color: #434B5C;\n",
              "      --hover-fill-color: #FFFFFF;\n",
              "      --disabled-bg-color: #3B4455;\n",
              "      --disabled-fill-color: #666;\n",
              "  }\n",
              "\n",
              "  .colab-df-quickchart {\n",
              "    background-color: var(--bg-color);\n",
              "    border: none;\n",
              "    border-radius: 50%;\n",
              "    cursor: pointer;\n",
              "    display: none;\n",
              "    fill: var(--fill-color);\n",
              "    height: 32px;\n",
              "    padding: 0;\n",
              "    width: 32px;\n",
              "  }\n",
              "\n",
              "  .colab-df-quickchart:hover {\n",
              "    background-color: var(--hover-bg-color);\n",
              "    box-shadow: 0 1px 2px rgba(60, 64, 67, 0.3), 0 1px 3px 1px rgba(60, 64, 67, 0.15);\n",
              "    fill: var(--button-hover-fill-color);\n",
              "  }\n",
              "\n",
              "  .colab-df-quickchart-complete:disabled,\n",
              "  .colab-df-quickchart-complete:disabled:hover {\n",
              "    background-color: var(--disabled-bg-color);\n",
              "    fill: var(--disabled-fill-color);\n",
              "    box-shadow: none;\n",
              "  }\n",
              "\n",
              "  .colab-df-spinner {\n",
              "    border: 2px solid var(--fill-color);\n",
              "    border-color: transparent;\n",
              "    border-bottom-color: var(--fill-color);\n",
              "    animation:\n",
              "      spin 1s steps(1) infinite;\n",
              "  }\n",
              "\n",
              "  @keyframes spin {\n",
              "    0% {\n",
              "      border-color: transparent;\n",
              "      border-bottom-color: var(--fill-color);\n",
              "      border-left-color: var(--fill-color);\n",
              "    }\n",
              "    20% {\n",
              "      border-color: transparent;\n",
              "      border-left-color: var(--fill-color);\n",
              "      border-top-color: var(--fill-color);\n",
              "    }\n",
              "    30% {\n",
              "      border-color: transparent;\n",
              "      border-left-color: var(--fill-color);\n",
              "      border-top-color: var(--fill-color);\n",
              "      border-right-color: var(--fill-color);\n",
              "    }\n",
              "    40% {\n",
              "      border-color: transparent;\n",
              "      border-right-color: var(--fill-color);\n",
              "      border-top-color: var(--fill-color);\n",
              "    }\n",
              "    60% {\n",
              "      border-color: transparent;\n",
              "      border-right-color: var(--fill-color);\n",
              "    }\n",
              "    80% {\n",
              "      border-color: transparent;\n",
              "      border-right-color: var(--fill-color);\n",
              "      border-bottom-color: var(--fill-color);\n",
              "    }\n",
              "    90% {\n",
              "      border-color: transparent;\n",
              "      border-bottom-color: var(--fill-color);\n",
              "    }\n",
              "  }\n",
              "</style>\n",
              "\n",
              "  <script>\n",
              "    async function quickchart(key) {\n",
              "      const quickchartButtonEl =\n",
              "        document.querySelector('#' + key + ' button');\n",
              "      quickchartButtonEl.disabled = true;  // To prevent multiple clicks.\n",
              "      quickchartButtonEl.classList.add('colab-df-spinner');\n",
              "      try {\n",
              "        const charts = await google.colab.kernel.invokeFunction(\n",
              "            'suggestCharts', [key], {});\n",
              "      } catch (error) {\n",
              "        console.error('Error during call to suggestCharts:', error);\n",
              "      }\n",
              "      quickchartButtonEl.classList.remove('colab-df-spinner');\n",
              "      quickchartButtonEl.classList.add('colab-df-quickchart-complete');\n",
              "    }\n",
              "    (() => {\n",
              "      let quickchartButtonEl =\n",
              "        document.querySelector('#df-b20b7df0-0b80-47c9-80e2-070d2bdfab33 button');\n",
              "      quickchartButtonEl.style.display =\n",
              "        google.colab.kernel.accessAllowed ? 'block' : 'none';\n",
              "    })();\n",
              "  </script>\n",
              "</div>\n",
              "\n",
              "    </div>\n",
              "  </div>\n"
            ],
            "application/vnd.google.colaboratory.intrinsic+json": {
              "type": "dataframe",
              "variable_name": "movie_genres",
              "summary": "{\n  \"name\": \"movie_genres\",\n  \"rows\": 9742,\n  \"fields\": [\n    {\n      \"column\": \"Animation\",\n      \"properties\": {\n        \"dtype\": \"number\",\n        \"std\": 0,\n        \"min\": 0,\n        \"max\": 1,\n        \"num_unique_values\": 2,\n        \"samples\": [\n          0,\n          1\n        ],\n        \"semantic_type\": \"\",\n        \"description\": \"\"\n      }\n    },\n    {\n      \"column\": \"Western\",\n      \"properties\": {\n        \"dtype\": \"number\",\n        \"std\": 0,\n        \"min\": 0,\n        \"max\": 1,\n        \"num_unique_values\": 2,\n        \"samples\": [\n          1,\n          0\n        ],\n        \"semantic_type\": \"\",\n        \"description\": \"\"\n      }\n    },\n    {\n      \"column\": \"Film-Noir\",\n      \"properties\": {\n        \"dtype\": \"number\",\n        \"std\": 0,\n        \"min\": 0,\n        \"max\": 1,\n        \"num_unique_values\": 2,\n        \"samples\": [\n          1,\n          0\n        ],\n        \"semantic_type\": \"\",\n        \"description\": \"\"\n      }\n    },\n    {\n      \"column\": \"Romance\",\n      \"properties\": {\n        \"dtype\": \"number\",\n        \"std\": 0,\n        \"min\": 0,\n        \"max\": 1,\n        \"num_unique_values\": 2,\n        \"samples\": [\n          1,\n          0\n        ],\n        \"semantic_type\": \"\",\n        \"description\": \"\"\n      }\n    },\n    {\n      \"column\": \"Crime\",\n      \"properties\": {\n        \"dtype\": \"number\",\n        \"std\": 0,\n        \"min\": 0,\n        \"max\": 1,\n        \"num_unique_values\": 2,\n        \"samples\": [\n          1,\n          0\n        ],\n        \"semantic_type\": \"\",\n        \"description\": \"\"\n      }\n    },\n    {\n      \"column\": \"(no genres listed)\",\n      \"properties\": {\n        \"dtype\": \"number\",\n        \"std\": 0,\n        \"min\": 0,\n        \"max\": 1,\n        \"num_unique_values\": 2,\n        \"samples\": [\n          1,\n          0\n        ],\n        \"semantic_type\": \"\",\n        \"description\": \"\"\n      }\n    },\n    {\n      \"column\": \"Children\",\n      \"properties\": {\n        \"dtype\": \"number\",\n        \"std\": 0,\n        \"min\": 0,\n        \"max\": 1,\n        \"num_unique_values\": 2,\n        \"samples\": [\n          0,\n          1\n        ],\n        \"semantic_type\": \"\",\n        \"description\": \"\"\n      }\n    },\n    {\n      \"column\": \"Adventure\",\n      \"properties\": {\n        \"dtype\": \"number\",\n        \"std\": 0,\n        \"min\": 0,\n        \"max\": 1,\n        \"num_unique_values\": 2,\n        \"samples\": [\n          0,\n          1\n        ],\n        \"semantic_type\": \"\",\n        \"description\": \"\"\n      }\n    },\n    {\n      \"column\": \"Action\",\n      \"properties\": {\n        \"dtype\": \"number\",\n        \"std\": 0,\n        \"min\": 0,\n        \"max\": 1,\n        \"num_unique_values\": 2,\n        \"samples\": [\n          1,\n          0\n        ],\n        \"semantic_type\": \"\",\n        \"description\": \"\"\n      }\n    },\n    {\n      \"column\": \"Comedy\",\n      \"properties\": {\n        \"dtype\": \"number\",\n        \"std\": 0,\n        \"min\": 0,\n        \"max\": 1,\n        \"num_unique_values\": 2,\n        \"samples\": [\n          0,\n          1\n        ],\n        \"semantic_type\": \"\",\n        \"description\": \"\"\n      }\n    },\n    {\n      \"column\": \"Fantasy\",\n      \"properties\": {\n        \"dtype\": \"number\",\n        \"std\": 0,\n        \"min\": 0,\n        \"max\": 1,\n        \"num_unique_values\": 2,\n        \"samples\": [\n          0,\n          1\n        ],\n        \"semantic_type\": \"\",\n        \"description\": \"\"\n      }\n    },\n    {\n      \"column\": \"Sci-Fi\",\n      \"properties\": {\n        \"dtype\": \"number\",\n        \"std\": 0,\n        \"min\": 0,\n        \"max\": 1,\n        \"num_unique_values\": 2,\n        \"samples\": [\n          1,\n          0\n        ],\n        \"semantic_type\": \"\",\n        \"description\": \"\"\n      }\n    },\n    {\n      \"column\": \"Thriller\",\n      \"properties\": {\n        \"dtype\": \"number\",\n        \"std\": 0,\n        \"min\": 0,\n        \"max\": 1,\n        \"num_unique_values\": 2,\n        \"samples\": [\n          1,\n          0\n        ],\n        \"semantic_type\": \"\",\n        \"description\": \"\"\n      }\n    },\n    {\n      \"column\": \"Documentary\",\n      \"properties\": {\n        \"dtype\": \"number\",\n        \"std\": 0,\n        \"min\": 0,\n        \"max\": 1,\n        \"num_unique_values\": 2,\n        \"samples\": [\n          1,\n          0\n        ],\n        \"semantic_type\": \"\",\n        \"description\": \"\"\n      }\n    },\n    {\n      \"column\": \"War\",\n      \"properties\": {\n        \"dtype\": \"number\",\n        \"std\": 0,\n        \"min\": 0,\n        \"max\": 1,\n        \"num_unique_values\": 2,\n        \"samples\": [\n          1,\n          0\n        ],\n        \"semantic_type\": \"\",\n        \"description\": \"\"\n      }\n    },\n    {\n      \"column\": \"Musical\",\n      \"properties\": {\n        \"dtype\": \"number\",\n        \"std\": 0,\n        \"min\": 0,\n        \"max\": 1,\n        \"num_unique_values\": 2,\n        \"samples\": [\n          1,\n          0\n        ],\n        \"semantic_type\": \"\",\n        \"description\": \"\"\n      }\n    },\n    {\n      \"column\": \"Drama\",\n      \"properties\": {\n        \"dtype\": \"number\",\n        \"std\": 0,\n        \"min\": 0,\n        \"max\": 1,\n        \"num_unique_values\": 2,\n        \"samples\": [\n          1,\n          0\n        ],\n        \"semantic_type\": \"\",\n        \"description\": \"\"\n      }\n    },\n    {\n      \"column\": \"IMAX\",\n      \"properties\": {\n        \"dtype\": \"number\",\n        \"std\": 0,\n        \"min\": 0,\n        \"max\": 1,\n        \"num_unique_values\": 2,\n        \"samples\": [\n          1,\n          0\n        ],\n        \"semantic_type\": \"\",\n        \"description\": \"\"\n      }\n    },\n    {\n      \"column\": \"Horror\",\n      \"properties\": {\n        \"dtype\": \"number\",\n        \"std\": 0,\n        \"min\": 0,\n        \"max\": 1,\n        \"num_unique_values\": 2,\n        \"samples\": [\n          1,\n          0\n        ],\n        \"semantic_type\": \"\",\n        \"description\": \"\"\n      }\n    },\n    {\n      \"column\": \"Mystery\",\n      \"properties\": {\n        \"dtype\": \"number\",\n        \"std\": 0,\n        \"min\": 0,\n        \"max\": 1,\n        \"num_unique_values\": 2,\n        \"samples\": [\n          1,\n          0\n        ],\n        \"semantic_type\": \"\",\n        \"description\": \"\"\n      }\n    }\n  ]\n}"
            }
          },
          "metadata": {},
          "execution_count": 38
        }
      ]
    },
    {
      "cell_type": "code",
      "source": [
        "from sklearn.metrics.pairwise import cosine_similarity\n",
        "\n",
        "cosine_sim = cosine_similarity(movie_genres, movie_genres)\n",
        "print(f\"Dimensions of our genres cosine similarity matrix: {cosine_sim.shape}\")"
      ],
      "metadata": {
        "colab": {
          "base_uri": "https://localhost:8080/"
        },
        "id": "gvdwxyeP-CIM",
        "outputId": "d5c37ceb-ff2b-4ae8-c2d6-00f57e786e4b"
      },
      "execution_count": null,
      "outputs": [
        {
          "output_type": "stream",
          "name": "stdout",
          "text": [
            "Dimensions of our genres cosine similarity matrix: (9742, 9742)\n"
          ]
        }
      ]
    },
    {
      "cell_type": "markdown",
      "source": [
        "Come aspettato, passando il dataframe **movie_genres** alla funzione *cosine_similarity()* otteniamo una matrice di dimensione: \\\\\n",
        " ($n_{film}, n_{film}$).\n",
        "\n",
        "\\\\\n",
        "\n",
        "Questa matrice è formata solo da zeri ed uni che rappresentano il grado di somiglianza tra i film lungo gli assi *x* ed *y*."
      ],
      "metadata": {
        "id": "HspAYeaQCmuE"
      }
    },
    {
      "cell_type": "markdown",
      "source": [
        "### Creare una funzione di ricerca film\n",
        "Può essere utile perché altrimenti dobbiamo conoscere il nome esatto con cui è listato un film nel dataset e nel nostro caso anche l'anno in cui è uscito. Se sbagliamo a scrivere un titolo per un errore di grammatica o dimentichiamo di mettere la data di uscita, il raccomandatore non è in grado di identificare il fim che ci interessa."
      ],
      "metadata": {
        "id": "ov-m3odN-HuY"
      }
    },
    {
      "cell_type": "markdown",
      "source": [
        "Per implementare ciò possiamo usare il package [fuzzywuzzy](https://pypi.org/project/fuzzywuzzy/), che permette di trovare il titolo più simile alla stringa passata in input."
      ],
      "metadata": {
        "id": "P4r3hdja-YWd"
      }
    },
    {
      "cell_type": "code",
      "source": [
        "!pip install fuzzywuzzy\n",
        "from fuzzywuzzy import process\n",
        "\n",
        "def movie_finder(title):\n",
        "    all_titles = movies['title'].tolist()\n",
        "    closest_match = process.extractOne(title,all_titles)\n",
        "    return closest_match[0]"
      ],
      "metadata": {
        "colab": {
          "base_uri": "https://localhost:8080/"
        },
        "id": "Ypd1vZ16-Kuz",
        "outputId": "be9856f3-8806-4a9f-ae3b-585d407fb903"
      },
      "execution_count": null,
      "outputs": [
        {
          "output_type": "stream",
          "name": "stdout",
          "text": [
            "Collecting fuzzywuzzy\n",
            "  Downloading fuzzywuzzy-0.18.0-py2.py3-none-any.whl.metadata (4.9 kB)\n",
            "Downloading fuzzywuzzy-0.18.0-py2.py3-none-any.whl (18 kB)\n",
            "Installing collected packages: fuzzywuzzy\n",
            "Successfully installed fuzzywuzzy-0.18.0\n"
          ]
        },
        {
          "output_type": "stream",
          "name": "stderr",
          "text": [
            "/usr/local/lib/python3.11/dist-packages/fuzzywuzzy/fuzz.py:11: UserWarning: Using slow pure-python SequenceMatcher. Install python-Levenshtein to remove this warning\n",
            "  warnings.warn('Using slow pure-python SequenceMatcher. Install python-Levenshtein to remove this warning')\n"
          ]
        }
      ]
    },
    {
      "cell_type": "markdown",
      "source": [
        "Test della funzione **movie_finder()**, cercando Jumanji con errori di spelling."
      ],
      "metadata": {
        "id": "DTWULwePEz-O"
      }
    },
    {
      "cell_type": "code",
      "source": [
        "title = movie_finder('juminji')\n",
        "title"
      ],
      "metadata": {
        "colab": {
          "base_uri": "https://localhost:8080/",
          "height": 36
        },
        "id": "WduCndqM-3Fj",
        "outputId": "01eb385d-b1cd-4eae-f25f-96e3ceb345a4"
      },
      "execution_count": null,
      "outputs": [
        {
          "output_type": "execute_result",
          "data": {
            "text/plain": [
              "'Jumanji (1995)'"
            ],
            "application/vnd.google.colaboratory.intrinsic+json": {
              "type": "string"
            }
          },
          "metadata": {},
          "execution_count": 41
        }
      ]
    },
    {
      "cell_type": "markdown",
      "source": [
        "Per ottenere anche i suggerimenti collegati al film *Jumanji* abbiamo bisogno di sapere il suo indice nella cosine similarity matrix.\n",
        "\n",
        "\\\\\n",
        "\n",
        "Creo quindi un dizionario: **movie_idx** che ha come chiave i titoli dei film e come valori gli indici degli stessi."
      ],
      "metadata": {
        "id": "JTSSI0C-FBdK"
      }
    },
    {
      "cell_type": "code",
      "source": [
        "movie_idx = dict(zip(movies['title'], list(movies.index)))\n",
        "idx = movie_idx[title]\n",
        "print(f\"Movie index for Jumanji: {idx}\")"
      ],
      "metadata": {
        "colab": {
          "base_uri": "https://localhost:8080/"
        },
        "id": "jzz4TnT8-6Av",
        "outputId": "e55e8c51-e11b-45c6-8a41-7b9c08956274"
      },
      "execution_count": null,
      "outputs": [
        {
          "output_type": "stream",
          "name": "stdout",
          "text": [
            "Movie index for Jumanji: 1\n"
          ]
        }
      ]
    },
    {
      "cell_type": "markdown",
      "source": [
        "Quindi *Jumanji* è rappresentato dall'index 1 nella nostra matrice."
      ],
      "metadata": {
        "id": "TN-xX84YGRfe"
      }
    },
    {
      "cell_type": "markdown",
      "source": [
        "Per ottenere i 10 film più simili a *Jumanji*:"
      ],
      "metadata": {
        "id": "2QOlOTMyGZQn"
      }
    },
    {
      "cell_type": "code",
      "source": [
        "n_recommendations=10\n",
        "sim_scores = list(enumerate(cosine_sim[idx]))\n",
        "sim_scores = sorted(sim_scores, key=lambda x: x[1], reverse=True)\n",
        "sim_scores = sim_scores[1:(n_recommendations+1)]\n",
        "similar_movies = [i[0] for i in sim_scores]"
      ],
      "metadata": {
        "id": "zGkolvwP--Fg"
      },
      "execution_count": null,
      "outputs": []
    },
    {
      "cell_type": "markdown",
      "source": [
        "Quindi, **similar_movies** è un array di indici che rappresenta le 10 raccomandazioni migliori relative al film *Jumanji*. Possiamo ottenere poi i titoli relativi a questi suggerimenti attraverso `.iloc()`  sulla colonna dei titoli del dataframe movies.\n",
        "\n",
        "\n"
      ],
      "metadata": {
        "id": "HJNxFDEy_A-_"
      }
    },
    {
      "cell_type": "code",
      "source": [
        "print(f\"Because you watched {title}:\")\n",
        "movies['title'].iloc[similar_movies]"
      ],
      "metadata": {
        "colab": {
          "base_uri": "https://localhost:8080/",
          "height": 415
        },
        "id": "r9O0kJi-_BTP",
        "outputId": "53399c34-3524-416d-ce78-1fa25e632499"
      },
      "execution_count": null,
      "outputs": [
        {
          "output_type": "stream",
          "name": "stdout",
          "text": [
            "Because you watched Jumanji (1995):\n"
          ]
        },
        {
          "output_type": "execute_result",
          "data": {
            "text/plain": [
              "53                     Indian in the Cupboard, The (1995)\n",
              "109                     NeverEnding Story III, The (1994)\n",
              "767                       Escape to Witch Mountain (1975)\n",
              "1514            Darby O'Gill and the Little People (1959)\n",
              "1556                                  Return to Oz (1985)\n",
              "1617                        NeverEnding Story, The (1984)\n",
              "1618    NeverEnding Story II: The Next Chapter, The (1...\n",
              "1799                        Santa Claus: The Movie (1985)\n",
              "3574    Harry Potter and the Sorcerer's Stone (a.k.a. ...\n",
              "6075    Chronicles of Narnia: The Lion, the Witch and ...\n",
              "Name: title, dtype: object"
            ],
            "text/html": [
              "<div>\n",
              "<style scoped>\n",
              "    .dataframe tbody tr th:only-of-type {\n",
              "        vertical-align: middle;\n",
              "    }\n",
              "\n",
              "    .dataframe tbody tr th {\n",
              "        vertical-align: top;\n",
              "    }\n",
              "\n",
              "    .dataframe thead th {\n",
              "        text-align: right;\n",
              "    }\n",
              "</style>\n",
              "<table border=\"1\" class=\"dataframe\">\n",
              "  <thead>\n",
              "    <tr style=\"text-align: right;\">\n",
              "      <th></th>\n",
              "      <th>title</th>\n",
              "    </tr>\n",
              "  </thead>\n",
              "  <tbody>\n",
              "    <tr>\n",
              "      <th>53</th>\n",
              "      <td>Indian in the Cupboard, The (1995)</td>\n",
              "    </tr>\n",
              "    <tr>\n",
              "      <th>109</th>\n",
              "      <td>NeverEnding Story III, The (1994)</td>\n",
              "    </tr>\n",
              "    <tr>\n",
              "      <th>767</th>\n",
              "      <td>Escape to Witch Mountain (1975)</td>\n",
              "    </tr>\n",
              "    <tr>\n",
              "      <th>1514</th>\n",
              "      <td>Darby O'Gill and the Little People (1959)</td>\n",
              "    </tr>\n",
              "    <tr>\n",
              "      <th>1556</th>\n",
              "      <td>Return to Oz (1985)</td>\n",
              "    </tr>\n",
              "    <tr>\n",
              "      <th>1617</th>\n",
              "      <td>NeverEnding Story, The (1984)</td>\n",
              "    </tr>\n",
              "    <tr>\n",
              "      <th>1618</th>\n",
              "      <td>NeverEnding Story II: The Next Chapter, The (1...</td>\n",
              "    </tr>\n",
              "    <tr>\n",
              "      <th>1799</th>\n",
              "      <td>Santa Claus: The Movie (1985)</td>\n",
              "    </tr>\n",
              "    <tr>\n",
              "      <th>3574</th>\n",
              "      <td>Harry Potter and the Sorcerer's Stone (a.k.a. ...</td>\n",
              "    </tr>\n",
              "    <tr>\n",
              "      <th>6075</th>\n",
              "      <td>Chronicles of Narnia: The Lion, the Witch and ...</td>\n",
              "    </tr>\n",
              "  </tbody>\n",
              "</table>\n",
              "</div><br><label><b>dtype:</b> object</label>"
            ]
          },
          "metadata": {},
          "execution_count": 44
        }
      ]
    },
    {
      "cell_type": "markdown",
      "source": [
        "Per testare in maniera più semplice il sistema di raccomandazione con altri titoli di film, creo una ingola funzione che prende il titolo del film ed il numero di raccomandazioni volute."
      ],
      "metadata": {
        "id": "ld4pKi7t_GPY"
      }
    },
    {
      "cell_type": "code",
      "source": [
        "def get_content_based_recommendations(title_string, n_recommendations=10):\n",
        "    title = movie_finder(title_string)\n",
        "    idx = movie_idx[title]\n",
        "    sim_scores = list(enumerate(cosine_sim[idx]))\n",
        "    sim_scores = sorted(sim_scores, key=lambda x: x[1], reverse=True)\n",
        "    sim_scores = [s for s in sim_scores if s[0] != idx]   # Escludo il film stesso\n",
        "    sim_scores = sim_scores[:(n_recommendations)]\n",
        "    similar_movies = [i[0] for i in sim_scores]\n",
        "    print(f\"Siccome hai visto {title}:\")\n",
        "    print(movies['title'].iloc[similar_movies])"
      ],
      "metadata": {
        "id": "JGFrko6E_GfM"
      },
      "execution_count": null,
      "outputs": []
    },
    {
      "cell_type": "code",
      "source": [
        "get_content_based_recommendations('reservoir dogs')"
      ],
      "metadata": {
        "colab": {
          "base_uri": "https://localhost:8080/"
        },
        "id": "5j2Dfjv4_Jtg",
        "outputId": "57aa6ec8-c194-4456-fdcd-4ba96bb63db5"
      },
      "execution_count": null,
      "outputs": [
        {
          "output_type": "stream",
          "name": "stdout",
          "text": [
            "Siccome hai visto Reservoir Dogs (1992):\n",
            "46                        Usual Suspects, The (1995)\n",
            "826                         Dial M for Murder (1954)\n",
            "831                            Basic Instinct (1992)\n",
            "1250                               Switchback (1997)\n",
            "1945                                Following (1998)\n",
            "3329                                  Frantic (1988)\n",
            "3991                               Red Dragon (2002)\n",
            "5294         Sherlock Holmes: Terror by Night (1946)\n",
            "5296    Sherlock Holmes and the Secret Weapon (1942)\n",
            "5337             Murder on the Orient Express (1974)\n",
            "6846                           Righteous Kill (2008)\n",
            "Name: title, dtype: object\n"
          ]
        }
      ]
    },
    {
      "cell_type": "code",
      "source": [
        "get_content_based_recommendations('toy stroy', 5)"
      ],
      "metadata": {
        "colab": {
          "base_uri": "https://localhost:8080/"
        },
        "id": "PU67Ha2UYfI6",
        "outputId": "5e40d786-c9bf-45c9-f2ab-b874d195f256"
      },
      "execution_count": null,
      "outputs": [
        {
          "output_type": "stream",
          "name": "stdout",
          "text": [
            "Siccome hai visto Toy Story (1995):\n",
            "1706                                       Antz (1998)\n",
            "2355                                Toy Story 2 (1999)\n",
            "2809    Adventures of Rocky and Bullwinkle, The (2000)\n",
            "3000                  Emperor's New Groove, The (2000)\n",
            "3568                             Monsters, Inc. (2001)\n",
            "Name: title, dtype: object\n"
          ]
        }
      ]
    },
    {
      "cell_type": "markdown",
      "source": [
        "### References\n",
        "\n",
        "[1] [Jill Cates](https://www.youtube.com/watch?v=v_mONWiFv0k) \\\\\n",
        "[2] [Google Developers](https://developers.google.com/machine-learning/recommendation/collaborative/basics) : Machine Learning > Advanced courses > Collaborative filtering"
      ],
      "metadata": {
        "id": "uSJNnIo8_roe"
      }
    }
  ]
}